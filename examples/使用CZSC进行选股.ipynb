{
 "cells": [
  {
   "cell_type": "markdown",
   "metadata": {
    "pycharm": {
     "name": "#%% md\n"
    }
   },
   "source": [
    "## 使用 `czsc` 进行选股\n",
    "---\n"
   ]
  },
  {
   "cell_type": "code",
   "execution_count": 1,
   "metadata": {},
   "outputs": [
    {
     "name": "stdout",
     "output_type": "stream",
     "text": [
      "Requirement already satisfied: ta-lib in /usr/local/lib/python3.8/site-packages (0.4.19)\n",
      "Requirement already satisfied: mplfinance in /usr/local/lib/python3.8/site-packages (0.12.7a0)\n",
      "Requirement already satisfied: pandas in /usr/local/lib/python3.8/site-packages (from mplfinance) (0.25.3)\n",
      "Requirement already satisfied: matplotlib in /usr/local/lib/python3.8/site-packages (from mplfinance) (3.2.1)\n",
      "Requirement already satisfied: numpy in /usr/local/lib/python3.8/site-packages (from ta-lib) (1.18.3)\n",
      "Requirement already satisfied: python-dateutil>=2.1 in /usr/local/lib/python3.8/site-packages (from matplotlib->mplfinance) (2.8.1)\n",
      "Requirement already satisfied: pyparsing!=2.0.4,!=2.1.2,!=2.1.6,>=2.0.1 in /usr/local/lib/python3.8/site-packages (from matplotlib->mplfinance) (2.4.7)\n",
      "Requirement already satisfied: cycler>=0.10 in /usr/local/lib/python3.8/site-packages (from matplotlib->mplfinance) (0.10.0)\n",
      "Requirement already satisfied: kiwisolver>=1.0.1 in /usr/local/lib/python3.8/site-packages (from matplotlib->mplfinance) (1.2.0)\n",
      "Requirement already satisfied: six in /usr/local/lib/python3.8/site-packages (from cycler>=0.10->matplotlib->mplfinance) (1.14.0)\n",
      "Requirement already satisfied: pytz>=2017.2 in /usr/local/lib/python3.8/site-packages (from pandas->mplfinance) (2019.3)\n",
      "Collecting git+git://github.com/sohunjug/czsc.git\n",
      "  Cloning git://github.com/sohunjug/czsc.git to /tmp/pip-req-build-ftv2p84y\n",
      "Requirement already satisfied: pandas in /usr/local/lib/python3.8/site-packages (from czsc==0.5.9) (0.25.3)\n",
      "Requirement already satisfied: pyecharts in /usr/local/lib/python3.8/site-packages (from czsc==0.5.9) (1.7.1)\n",
      "Requirement already satisfied: mplfinance in /usr/local/lib/python3.8/site-packages (from czsc==0.5.9) (0.12.7a0)\n",
      "Requirement already satisfied: tushare in /usr/local/lib/python3.8/site-packages (from czsc==0.5.9) (1.2.62)\n",
      "Requirement already satisfied: matplotlib in /usr/local/lib/python3.8/site-packages (from czsc==0.5.9) (3.2.1)\n",
      "Requirement already satisfied: numpy>=1.11 in /usr/local/lib/python3.8/site-packages (from matplotlib->czsc==0.5.9) (1.18.3)\n",
      "Requirement already satisfied: cycler>=0.10 in /usr/local/lib/python3.8/site-packages (from matplotlib->czsc==0.5.9) (0.10.0)\n",
      "Requirement already satisfied: pyparsing!=2.0.4,!=2.1.2,!=2.1.6,>=2.0.1 in /usr/local/lib/python3.8/site-packages (from matplotlib->czsc==0.5.9) (2.4.7)\n",
      "Requirement already satisfied: python-dateutil>=2.1 in /usr/local/lib/python3.8/site-packages (from matplotlib->czsc==0.5.9) (2.8.1)\n",
      "Requirement already satisfied: kiwisolver>=1.0.1 in /usr/local/lib/python3.8/site-packages (from matplotlib->czsc==0.5.9) (1.2.0)\n",
      "Requirement already satisfied: six in /usr/local/lib/python3.8/site-packages (from cycler>=0.10->matplotlib->czsc==0.5.9) (1.14.0)\n",
      "Requirement already satisfied: pytz>=2017.2 in /usr/local/lib/python3.8/site-packages (from pandas->czsc==0.5.9) (2019.3)\n",
      "Requirement already satisfied: simplejson in /usr/local/lib/python3.8/site-packages (from pyecharts->czsc==0.5.9) (3.17.2)\n",
      "Requirement already satisfied: prettytable in /usr/local/lib/python3.8/site-packages (from pyecharts->czsc==0.5.9) (2.0.0)\n",
      "Requirement already satisfied: jinja2 in /usr/local/lib/python3.8/site-packages (from pyecharts->czsc==0.5.9) (2.11.2)\n",
      "Requirement already satisfied: MarkupSafe>=0.23 in /usr/local/lib/python3.8/site-packages (from jinja2->pyecharts->czsc==0.5.9) (1.1.1)\n",
      "Requirement already satisfied: setuptools in /usr/local/lib/python3.8/site-packages (from prettytable->pyecharts->czsc==0.5.9) (46.1.3)\n",
      "Requirement already satisfied: wcwidth in /usr/local/lib/python3.8/site-packages (from prettytable->pyecharts->czsc==0.5.9) (0.1.9)\n",
      "Requirement already satisfied: requests>=2.0.0 in /usr/local/lib/python3.8/site-packages (from tushare->czsc==0.5.9) (2.23.0)\n",
      "Requirement already satisfied: bs4>=0.0.1 in /usr/local/lib/python3.8/site-packages (from tushare->czsc==0.5.9) (0.0.1)\n",
      "Requirement already satisfied: lxml>=3.8.0 in /usr/local/lib/python3.8/site-packages (from tushare->czsc==0.5.9) (4.6.2)\n",
      "Requirement already satisfied: websocket-client>=0.57.0 in /usr/local/lib/python3.8/site-packages (from tushare->czsc==0.5.9) (0.57.0)\n",
      "Requirement already satisfied: beautifulsoup4 in /usr/local/lib/python3.8/site-packages (from bs4>=0.0.1->tushare->czsc==0.5.9) (4.9.3)\n",
      "Requirement already satisfied: urllib3!=1.25.0,!=1.25.1,<1.26,>=1.21.1 in /usr/local/lib/python3.8/site-packages (from requests>=2.0.0->tushare->czsc==0.5.9) (1.25.9)\n",
      "Requirement already satisfied: certifi>=2017.4.17 in /usr/local/lib/python3.8/site-packages (from requests>=2.0.0->tushare->czsc==0.5.9) (2020.4.5.1)\n",
      "Requirement already satisfied: chardet<4,>=3.0.2 in /usr/local/lib/python3.8/site-packages (from requests>=2.0.0->tushare->czsc==0.5.9) (3.0.4)\n",
      "Requirement already satisfied: idna<3,>=2.5 in /usr/local/lib/python3.8/site-packages (from requests>=2.0.0->tushare->czsc==0.5.9) (2.9)\n",
      "Requirement already satisfied: soupsieve>1.2 in /usr/local/lib/python3.8/site-packages (from beautifulsoup4->bs4>=0.0.1->tushare->czsc==0.5.9) (2.1)\n",
      "Building wheels for collected packages: czsc\n",
      "  Building wheel for czsc (setup.py) ... \u001b[?25ldone\n",
      "\u001b[?25h  Created wheel for czsc: filename=czsc-0.5.9-py3-none-any.whl size=33336 sha256=fa59991c5c5b2384a6c819c4cd54393571ccf7983c1be7c54e0b6d20c52ee9b6\n",
      "  Stored in directory: /tmp/pip-ephem-wheel-cache-20_nqok6/wheels/23/22/55/0530d7668e82d869fefb8602f04bc2c7bfbca7c51b66150f83\n",
      "Successfully built czsc\n",
      "Installing collected packages: czsc\n",
      "  Attempting uninstall: czsc\n",
      "    Found existing installation: czsc 0.5.8\n",
      "    Uninstalling czsc-0.5.8:\n",
      "      Successfully uninstalled czsc-0.5.8\n",
      "Successfully installed czsc-0.5.9\n",
      "Requirement already satisfied: tqdm in /usr/local/lib/python3.8/site-packages (4.54.1)\n",
      "Requirement already satisfied: numba in /usr/local/lib/python3.8/site-packages (0.52.0)\n",
      "Requirement already satisfied: numpy>=1.15 in /usr/local/lib/python3.8/site-packages (from numba) (1.18.3)\n",
      "Requirement already satisfied: setuptools in /usr/local/lib/python3.8/site-packages (from numba) (46.1.3)\n",
      "Requirement already satisfied: llvmlite<0.36,>=0.35.0 in /usr/local/lib/python3.8/site-packages (from numba) (0.35.0)\n"
     ]
    }
   ],
   "source": [
    "#!export http_proxy=http://nas.vvmm.ink:7890,https_proxy=http://nas.vvmm.ink:7890,all_proxy=socks5://nas.vvmm.ink:7891;\n",
    "!pip install ta-lib mplfinance\n",
    "!pip install git+git://github.com/sohunjug/czsc.git -U\n",
    "!pip install tqdm\n",
    "!pip install numba"
   ]
  },
  {
   "cell_type": "code",
   "execution_count": null,
   "metadata": {},
   "outputs": [],
   "source": [
    "import sys\n",
    "sys.path.insert(0, \".\")\n",
    "sys.path.insert(0, \"..\")\n",
    "\n",
    "import czsc\n",
    "print(czsc.__version__)\n",
    "print(dir(czsc.data))\n",
    "from czsc.data.ts import *\n",
    "from czsc.data.bs import *\n",
    "from datetime import datetime\n",
    "from typing import List\n",
    "import traceback\n",
    "import pandas as pd\n",
    "import numpy as np\n",
    "from tqdm.notebook import tqdm\n",
    "from czsc.analyze import KlineAnalyze\n",
    "import tushare as ts\n",
    "# 如果是第一次使用需要设置 token\n",
    "ts.set_token(\"565ee6d69fb85cb0bc7fdfc8dea4b8ce1f18366f30e8d23a253bb9cf\")"
   ]
  },
  {
   "cell_type": "code",
   "execution_count": 3,
   "metadata": {},
   "outputs": [],
   "source": [
    "# 导入 Tushare 数据（推荐使用）\n",
    "from czsc.data.ts import *\n"
   ]
  },
  {
   "cell_type": "code",
   "execution_count": 4,
   "metadata": {
    "pycharm": {
     "name": "#%%\n"
    }
   },
   "outputs": [],
   "source": [
    "# 导入聚宽数据\n",
    "from czsc.data.jq import *\n",
    "\n",
    "# 如果是第一次使用需要设置 token\n",
    "set_token(\"18688989717\", \"hwqdir5.\")"
   ]
  },
  {
   "cell_type": "code",
   "execution_count": 5,
   "metadata": {},
   "outputs": [
    {
     "ename": "ModuleNotFoundError",
     "evalue": "No module named 'czsc.data.bs'",
     "output_type": "error",
     "traceback": [
      "\u001b[0;31m---------------------------------------------------------------------------\u001b[0m",
      "\u001b[0;31mModuleNotFoundError\u001b[0m                       Traceback (most recent call last)",
      "\u001b[0;32m<ipython-input-5-466d2c3019de>\u001b[0m in \u001b[0;36m<module>\u001b[0;34m\u001b[0m\n\u001b[1;32m      1\u001b[0m \u001b[0;31m# 导入数据\u001b[0m\u001b[0;34m\u001b[0m\u001b[0;34m\u001b[0m\u001b[0;34m\u001b[0m\u001b[0m\n\u001b[0;32m----> 2\u001b[0;31m \u001b[0;32mfrom\u001b[0m \u001b[0mczsc\u001b[0m\u001b[0;34m.\u001b[0m\u001b[0mdata\u001b[0m\u001b[0;34m.\u001b[0m\u001b[0mbs\u001b[0m \u001b[0;32mimport\u001b[0m \u001b[0;34m*\u001b[0m\u001b[0;34m\u001b[0m\u001b[0;34m\u001b[0m\u001b[0m\n\u001b[0m",
      "\u001b[0;31mModuleNotFoundError\u001b[0m: No module named 'czsc.data.bs'"
     ]
    }
   ],
   "source": [
    "# 导入数据\n",
    "\n"
   ]
  },
  {
   "cell_type": "markdown",
   "metadata": {
    "pycharm": {
     "name": "#%% md\n"
    }
   },
   "source": [
    "### 缠论日线笔中枢三买选股\n",
    "---\n",
    "\n",
    "条件描述： 最近五笔走势，前三笔构成中枢，第四笔离开中枢，第五笔向下不回中枢\n",
    "\n"
   ]
  },
  {
   "cell_type": "code",
   "execution_count": 5,
   "metadata": {},
   "outputs": [],
   "source": [
    "def selector1(symbols: List):\n",
    "    \"\"\"输入股票列表，输入符合买点定义的股票\"\"\"\n",
    "    res = []\n",
    "    for symbol in tqdm(symbols, desc=\"缠论日线笔中枢三买选股\"):\n",
    "        try:\n",
    "            kline = get_kline(symbol=symbol, end_date=datetime.now(), freq=\"D\", count=1000)\n",
    "            ka = KlineAnalyze(kline, ma_params=(5, 34, 120, 233), bi_mode=\"new\")\n",
    "            points = ka.bi_list[-6:]\n",
    "            \n",
    "            if len(points) == 6 and points[-1]['fx_mark'] == \"d\":\n",
    "                zs_g = min([x['bi'] for x in points[:4] if x['fx_mark'] == 'g'])\n",
    "                zs_d = max([x['bi'] for x in points[:4] if x['fx_mark'] == 'd'])\n",
    "                \n",
    "                if points[-1]['bi'] > zs_g > zs_d:\n",
    "                    res.append(symbol)\n",
    "                    \n",
    "        except:\n",
    "            print(\"{} 分析失败\".format(symbol))\n",
    "            traceback.print_exc()\n",
    "    return res"
   ]
  },
  {
   "cell_type": "markdown",
   "metadata": {},
   "source": [
    "### 日线笔中枢选股\n",
    "---\n",
    "\n",
    "中枢如果能当下确认，基本逻辑如下：\n",
    "1. ma 233<close<ma 60 ---得 codes_list1\n",
    "2. codes_list1中选择 符合日线笔中枢形态的，得codes_list2\n",
    "    * 2.1 笔中枢形态：方向下: 日线中枢完成，第四笔底分型\n",
    "3. codes_list2 中中枢第一笔到第四笔得日期跨度 date1\n",
    "4. date1时间跨度中，codes_list2 ma233 cross的个数，并标注 codes_list3"
   ]
  },
  {
   "cell_type": "code",
   "execution_count": 6,
   "metadata": {},
   "outputs": [
    {
     "name": "stdout",
     "output_type": "stream",
     "text": [
      "2\n"
     ]
    }
   ],
   "source": [
    "def cross_number(x1, x2):\n",
    "    \"\"\"输入两个序列，计算 x1 下穿 x2 的次数\"\"\"\n",
    "    x = np.array(x1) < np.array(x2)\n",
    "    num = 0\n",
    "    for i in range(len(x)-1):\n",
    "        b1, b2 = x[i], x[i+1]\n",
    "        if b2 and b1 != b2:\n",
    "            num += 1\n",
    "    return num\n",
    "\n",
    "x1 = [1, 1, 3, 4, 5, 12, 9, 8]\n",
    "x2 = [2, 2, 1, 5, 8, 9, 10, 3]\n",
    "print(cross_number(x1, x2))"
   ]
  },
  {
   "cell_type": "code",
   "execution_count": 7,
   "metadata": {},
   "outputs": [],
   "source": [
    "def selector(symbols: List):\n",
    "    \"\"\"输入股票列表，输入符合买点定义的股票\"\"\"\n",
    "    res = []\n",
    "    for symbol in tqdm(symbols, desc=\"缠论选股\"):\n",
    "        try:\n",
    "            kline = get_kline(symbol=symbol, end_date=datetime.now(), freq=\"D\", count=1000)\n",
    "            ka = KlineAnalyze(kline, ma_params=(5, 34, 60, 250), bi_mode=\"new\")\n",
    "\n",
    "            if ka.ma[-1]['ma60'] >= ka.latest_price >= ka.ma[-1]['ma250']:\n",
    "                # print(\"{} 满足条件1：ma60 > close > ma233\".format(symbol))\n",
    "                points = ka.bi_list[-7:]\n",
    "                \n",
    "                if len(points) == 7 and points[-1]['fx_mark'] == 'd':\n",
    "                    zs_g = min([x['bi'] for x in points[2:6] if x['fx_mark'] == 'g'])\n",
    "                    zs_d = max([x['bi'] for x in points[2:6] if x['fx_mark'] == 'd'])\n",
    "                    \n",
    "                    if zs_g > zs_d:\n",
    "                        # print(\"{} 满足条件2：向下中枢完成\".format(symbol))\n",
    "                        date_span = [points[-5]['dt'], points[-1]['dt']]\n",
    "                        low = [x['low'] for x in ka.kline_raw if date_span[1] >= x['dt'] >= date_span[0]]\n",
    "                        ma_ = [x['ma250'] for x in ka.ma if date_span[1] >= x['dt'] >= date_span[0]]\n",
    "                        num = cross_number(low, ma_)\n",
    "                        res.append({\"symbol\": symbol, \"cross_num\": num})\n",
    "        except:\n",
    "            print(\"{} 分析失败\".format(symbol))\n",
    "            traceback.print_exc()\n",
    "    return res"
   ]
  },
  {
   "cell_type": "markdown",
   "metadata": {},
   "source": [
    "## 执行选股\n",
    "---"
   ]
  },
  {
   "cell_type": "code",
   "execution_count": 11,
   "metadata": {},
   "outputs": [
    {
     "data": {
      "application/vnd.jupyter.widget-view+json": {
       "model_id": "92b55b84a6234aaaadc0669cebea27d3",
       "version_major": 2,
       "version_minor": 0
      },
      "text/plain": [
       "HBox(children=(HTML(value='缠论日线笔中枢三买选股'), FloatProgress(value=0.0, max=300.0), HTML(value='')))"
      ]
     },
     "metadata": {},
     "output_type": "display_data"
    },
    {
     "name": "stdout",
     "output_type": "stream",
     "text": [
      "\n",
      "选股结果： ['000708.XSHE', '000768.XSHE', '002008.XSHE', '002230.XSHE', '002415.XSHE', '002460.XSHE', '002508.XSHE', '300014.XSHE', '300015.XSHE', '600009.XSHG', '600025.XSHG', '600031.XSHG', '600036.XSHG', '600104.XSHG', '600309.XSHG', '600346.XSHG', '600406.XSHG', '600660.XSHG', '600703.XSHG', '600741.XSHG', '600809.XSHG', '600893.XSHG', '601021.XSHG', '601100.XSHG', '601919.XSHG', '603195.XSHG', '603799.XSHG', '603833.XSHG', '603899.XSHG', '603993.XSHG']\n"
     ]
    }
   ],
   "source": [
    "# 使用 tushare 数据在创业板综指上选股\n",
    "symbols = get_index_stocks(\"000300.XSHG\")\n",
    "#print(symbols)\n",
    "selected = selector1(symbols)\n",
    "\n",
    "print(\"选股结果：\", selected)\n",
    "# df = pd.DataFrame(selected)\n",
    "# df.to_excel(\"选股结果.xlsx\", index=False)"
   ]
  },
  {
   "cell_type": "code",
   "execution_count": 9,
   "metadata": {},
   "outputs": [
    {
     "data": {
      "application/vnd.jupyter.widget-view+json": {
       "model_id": "a2b46d98e8da4b9da6eb2097ceca7804",
       "version_major": 2,
       "version_minor": 0
      },
      "text/plain": [
       "HBox(children=(HTML(value='缠论选股'), FloatProgress(value=0.0, max=326.0), HTML(value='')))"
      ]
     },
     "metadata": {},
     "output_type": "display_data"
    },
    {
     "name": "stdout",
     "output_type": "stream",
     "text": [
      "\n",
      "选股结果： [{'symbol': '002371.XSHE', 'cross_num': 0}, {'symbol': '002773.XSHE', 'cross_num': 2}, {'symbol': '300413.XSHE', 'cross_num': 0}, {'symbol': '300433.XSHE', 'cross_num': 0}, {'symbol': '300676.XSHE', 'cross_num': 0}, {'symbol': '601901.XSHG', 'cross_num': 0}]\n"
     ]
    }
   ],
   "source": [
    "# 使用聚宽数据在创业板综指上选股\n",
    "#symbols = get_index_stocks(\"399006.XSHE\")\n",
    "symbols = get_index_stocks(\"000300.XSHG\")\n",
    "#print(symbols)\n",
    "selected = selector(symbols)\n",
    "\n",
    "print(\"选股结果：\", selected)\n",
    "# df = pd.DataFrame(selected)\n",
    "# df.to_excel(\"选股结果.xlsx\", index=False)"
   ]
  },
  {
   "cell_type": "code",
   "execution_count": 12,
   "metadata": {},
   "outputs": [
    {
     "data": {
      "application/vnd.jupyter.widget-view+json": {
       "model_id": "7275b9beeb28486bafd6b6e365a3404e",
       "version_major": 2,
       "version_minor": 0
      },
      "text/plain": [
       "HBox(children=(HTML(value='缠论日线笔中枢三买选股'), FloatProgress(value=0.0, max=300.0), HTML(value='')))"
      ]
     },
     "metadata": {},
     "output_type": "display_data"
    },
    {
     "name": "stdout",
     "output_type": "stream",
     "text": [
      "\n",
      "选股结果： ['000333.XSHE', '000768.XSHE', '000858.XSHE', '002008.XSHE', '002304.XSHE', '002415.XSHE', '002460.XSHE', '002508.XSHE', '300015.XSHE', '600009.XSHG', '600019.XSHG', '600025.XSHG', '600031.XSHG', '600036.XSHG', '600104.XSHG', '600111.XSHG', '600309.XSHG', '600346.XSHG', '600362.XSHG', '600406.XSHG', '600660.XSHG', '600741.XSHG', '600809.XSHG', '600926.XSHG', '601021.XSHG', '601100.XSHG', '601111.XSHG', '601318.XSHG', '601600.XSHG', '601601.XSHG', '601899.XSHG', '601919.XSHG', '603195.XSHG', '603799.XSHG', '603833.XSHG', '603899.XSHG', '603993.XSHG']\n"
     ]
    }
   ],
   "source": [
    "# 使用 tushare 数据在创业板综指上选股\n",
    "symbols = get_index_stocks(\"000300.XSHG\")\n",
    "#print(symbols)\n",
    "selected = selector1(symbols)\n",
    "\n",
    "print(\"选股结果：\", selected)\n",
    "# df = pd.DataFrame(selected)\n",
    "# df.to_excel(\"选股结果.xlsx\", index=False)"
   ]
  },
  {
   "cell_type": "code",
   "execution_count": null,
   "metadata": {},
   "outputs": [],
   "source": []
  }
 ],
 "metadata": {
  "kernelspec": {
   "display_name": "Python 3",
   "language": "python",
   "name": "python3"
  },
  "language_info": {
   "codemirror_mode": {
    "name": "ipython",
    "version": 3
   },
   "file_extension": ".py",
   "mimetype": "text/x-python",
   "name": "python",
   "nbconvert_exporter": "python",
   "pygments_lexer": "ipython3",
   "version": "3.8.2"
  }
 },
 "nbformat": 4,
 "nbformat_minor": 4
}
