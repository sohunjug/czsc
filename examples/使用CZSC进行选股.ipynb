{
 "cells": [
  {
   "cell_type": "markdown",
   "metadata": {
    "pycharm": {
     "name": "#%% md\n"
    }
   },
   "source": [
    "## 使用 `czsc` 进行选股\n",
    "---\n"
   ]
  },
  {
   "cell_type": "code",
   "execution_count": 1,
   "metadata": {},
   "outputs": [
    {
     "name": "stdout",
     "output_type": "stream",
     "text": [
      "Collecting ta-lib\n",
      "  Downloading TA-Lib-0.4.19.tar.gz (267 kB)\n",
      "\u001b[K     |█████████████████████████████▍  | 245 kB 4.4 kB/s eta 0:00:05\u001b[31mERROR: Exception:\n",
      "Traceback (most recent call last):\n",
      "  File \"/usr/local/lib/python3.8/site-packages/pip/_vendor/urllib3/response.py\", line 425, in _error_catcher\n",
      "    yield\n",
      "  File \"/usr/local/lib/python3.8/site-packages/pip/_vendor/urllib3/response.py\", line 507, in read\n",
      "    data = self._fp.read(amt) if not fp_closed else b\"\"\n",
      "  File \"/usr/local/lib/python3.8/site-packages/pip/_vendor/cachecontrol/filewrapper.py\", line 62, in read\n",
      "    data = self.__fp.read(amt)\n",
      "  File \"/usr/local/lib/python3.8/http/client.py\", line 454, in read\n",
      "    n = self.readinto(b)\n",
      "  File \"/usr/local/lib/python3.8/http/client.py\", line 498, in readinto\n",
      "    n = self.fp.readinto(b)\n",
      "  File \"/usr/local/lib/python3.8/socket.py\", line 669, in readinto\n",
      "    return self._sock.recv_into(b)\n",
      "  File \"/usr/local/lib/python3.8/ssl.py\", line 1241, in recv_into\n",
      "    return self.read(nbytes, buffer)\n",
      "  File \"/usr/local/lib/python3.8/ssl.py\", line 1099, in read\n",
      "    return self._sslobj.read(len, buffer)\n",
      "socket.timeout: The read operation timed out\n",
      "\n",
      "During handling of the above exception, another exception occurred:\n",
      "\n",
      "Traceback (most recent call last):\n",
      "  File \"/usr/local/lib/python3.8/site-packages/pip/_internal/cli/base_command.py\", line 186, in _main\n",
      "    status = self.run(options, args)\n",
      "  File \"/usr/local/lib/python3.8/site-packages/pip/_internal/commands/install.py\", line 331, in run\n",
      "    resolver.resolve(requirement_set)\n",
      "  File \"/usr/local/lib/python3.8/site-packages/pip/_internal/legacy_resolve.py\", line 177, in resolve\n",
      "    discovered_reqs.extend(self._resolve_one(requirement_set, req))\n",
      "  File \"/usr/local/lib/python3.8/site-packages/pip/_internal/legacy_resolve.py\", line 333, in _resolve_one\n",
      "    abstract_dist = self._get_abstract_dist_for(req_to_install)\n",
      "  File \"/usr/local/lib/python3.8/site-packages/pip/_internal/legacy_resolve.py\", line 282, in _get_abstract_dist_for\n",
      "    abstract_dist = self.preparer.prepare_linked_requirement(req)\n",
      "  File \"/usr/local/lib/python3.8/site-packages/pip/_internal/operations/prepare.py\", line 480, in prepare_linked_requirement\n",
      "    local_path = unpack_url(\n",
      "  File \"/usr/local/lib/python3.8/site-packages/pip/_internal/operations/prepare.py\", line 282, in unpack_url\n",
      "    return unpack_http_url(\n",
      "  File \"/usr/local/lib/python3.8/site-packages/pip/_internal/operations/prepare.py\", line 158, in unpack_http_url\n",
      "    from_path, content_type = _download_http_url(\n",
      "  File \"/usr/local/lib/python3.8/site-packages/pip/_internal/operations/prepare.py\", line 303, in _download_http_url\n",
      "    for chunk in download.chunks:\n",
      "  File \"/usr/local/lib/python3.8/site-packages/pip/_internal/utils/ui.py\", line 160, in iter\n",
      "    for x in it:\n",
      "  File \"/usr/local/lib/python3.8/site-packages/pip/_internal/network/utils.py\", line 15, in response_chunks\n",
      "    for chunk in response.raw.stream(\n",
      "  File \"/usr/local/lib/python3.8/site-packages/pip/_vendor/urllib3/response.py\", line 564, in stream\n",
      "    data = self.read(amt=amt, decode_content=decode_content)\n",
      "  File \"/usr/local/lib/python3.8/site-packages/pip/_vendor/urllib3/response.py\", line 529, in read\n",
      "    raise IncompleteRead(self._fp_bytes_read, self.length_remaining)\n",
      "  File \"/usr/local/lib/python3.8/contextlib.py\", line 131, in __exit__\n",
      "    self.gen.throw(type, value, traceback)\n",
      "  File \"/usr/local/lib/python3.8/site-packages/pip/_vendor/urllib3/response.py\", line 430, in _error_catcher\n",
      "    raise ReadTimeoutError(self._pool, None, \"Read timed out.\")\n",
      "pip._vendor.urllib3.exceptions.ReadTimeoutError: HTTPSConnectionPool(host='files.pythonhosted.org', port=443): Read timed out.\u001b[0m\n",
      "\u001b[33mWARNING: You are using pip version 20.0.2; however, version 20.3.3 is available.\n",
      "You should consider upgrading via the '/usr/local/bin/python -m pip install --upgrade pip' command.\u001b[0m\n",
      "Collecting git+git://github.com/sohunjug/czsc.git\n",
      "  Cloning git://github.com/sohunjug/czsc.git to /tmp/pip-req-build-lysqmr4s\n",
      "  Running command git clone -q git://github.com/sohunjug/czsc.git /tmp/pip-req-build-lysqmr4s\n",
      "\u001b[31m    ERROR: Command errored out with exit status 1:\n",
      "     command: /usr/local/bin/python -c 'import sys, setuptools, tokenize; sys.argv[0] = '\"'\"'/tmp/pip-req-build-lysqmr4s/setup.py'\"'\"'; __file__='\"'\"'/tmp/pip-req-build-lysqmr4s/setup.py'\"'\"';f=getattr(tokenize, '\"'\"'open'\"'\"', open)(__file__);code=f.read().replace('\"'\"'\\r\\n'\"'\"', '\"'\"'\\n'\"'\"');f.close();exec(compile(code, __file__, '\"'\"'exec'\"'\"'))' egg_info --egg-base /tmp/pip-req-build-lysqmr4s/pip-egg-info\n",
      "         cwd: /tmp/pip-req-build-lysqmr4s/\n",
      "    Complete output (22 lines):\n",
      "    /tmp/pip-req-build-lysqmr4s/czsc/analyze.py:10: UserWarning: 没有安装 ta-lib !!! 请到 https://www.lfd.uci.edu/~gohlke/pythonlibs/#ta-lib 下载对应版本安装，预计分析速度提升2倍\n",
      "      warnings.warn(ta_lib_hint)\n",
      "    Traceback (most recent call last):\n",
      "      File \"/tmp/pip-req-build-lysqmr4s/czsc/analyze.py\", line 6, in <module>\n",
      "        import talib as ta\n",
      "    ModuleNotFoundError: No module named 'talib'\n",
      "    \n",
      "    During handling of the above exception, another exception occurred:\n",
      "    \n",
      "    Traceback (most recent call last):\n",
      "      File \"<string>\", line 1, in <module>\n",
      "      File \"/tmp/pip-req-build-lysqmr4s/setup.py\", line 3, in <module>\n",
      "        import czsc\n",
      "      File \"/tmp/pip-req-build-lysqmr4s/czsc/__init__.py\", line 3, in <module>\n",
      "        from .analyze import KlineAnalyze, find_zs\n",
      "      File \"/tmp/pip-req-build-lysqmr4s/czsc/analyze.py\", line 11, in <module>\n",
      "        from .utils import ta\n",
      "      File \"/tmp/pip-req-build-lysqmr4s/czsc/utils/__init__.py\", line 3, in <module>\n",
      "        from .plot import ka_to_echarts, ka_to_image\n",
      "      File \"/tmp/pip-req-build-lysqmr4s/czsc/utils/plot.py\", line 4, in <module>\n",
      "        import mplfinance as mpf\n",
      "    ModuleNotFoundError: No module named 'mplfinance'\n",
      "    ----------------------------------------\u001b[0m\n",
      "\u001b[31mERROR: Command errored out with exit status 1: python setup.py egg_info Check the logs for full command output.\u001b[0m\n",
      "\u001b[33mWARNING: You are using pip version 20.0.2; however, version 20.3.3 is available.\n",
      "You should consider upgrading via the '/usr/local/bin/python -m pip install --upgrade pip' command.\u001b[0m\n",
      "Collecting tqdm\n",
      "  Downloading tqdm-4.56.0-py2.py3-none-any.whl (72 kB)\n",
      "\u001b[K     |████████████████████████████████| 72 kB 7.3 kB/s eta 0:00:01\n",
      "\u001b[?25hInstalling collected packages: tqdm\n",
      "Successfully installed tqdm-4.56.0\n",
      "\u001b[33mWARNING: You are using pip version 20.0.2; however, version 20.3.3 is available.\n",
      "You should consider upgrading via the '/usr/local/bin/python -m pip install --upgrade pip' command.\u001b[0m\n",
      "Collecting numba\n",
      "  Downloading numba-0.52.0-cp38-cp38-manylinux2014_x86_64.whl (3.2 MB)\n",
      "\u001b[K     |██▉                             | 276 kB 2.0 kB/s eta 0:23:40\u001b[31mERROR: Exception:\n",
      "Traceback (most recent call last):\n",
      "  File \"/usr/local/lib/python3.8/site-packages/pip/_vendor/urllib3/response.py\", line 425, in _error_catcher\n",
      "    yield\n",
      "  File \"/usr/local/lib/python3.8/site-packages/pip/_vendor/urllib3/response.py\", line 507, in read\n",
      "    data = self._fp.read(amt) if not fp_closed else b\"\"\n",
      "  File \"/usr/local/lib/python3.8/site-packages/pip/_vendor/cachecontrol/filewrapper.py\", line 62, in read\n",
      "    data = self.__fp.read(amt)\n",
      "  File \"/usr/local/lib/python3.8/http/client.py\", line 454, in read\n",
      "    n = self.readinto(b)\n",
      "  File \"/usr/local/lib/python3.8/http/client.py\", line 498, in readinto\n",
      "    n = self.fp.readinto(b)\n",
      "  File \"/usr/local/lib/python3.8/socket.py\", line 669, in readinto\n",
      "    return self._sock.recv_into(b)\n",
      "  File \"/usr/local/lib/python3.8/ssl.py\", line 1241, in recv_into\n",
      "    return self.read(nbytes, buffer)\n",
      "  File \"/usr/local/lib/python3.8/ssl.py\", line 1099, in read\n",
      "    return self._sslobj.read(len, buffer)\n",
      "socket.timeout: The read operation timed out\n",
      "\n",
      "During handling of the above exception, another exception occurred:\n",
      "\n",
      "Traceback (most recent call last):\n",
      "  File \"/usr/local/lib/python3.8/site-packages/pip/_internal/cli/base_command.py\", line 186, in _main\n",
      "    status = self.run(options, args)\n",
      "  File \"/usr/local/lib/python3.8/site-packages/pip/_internal/commands/install.py\", line 331, in run\n",
      "    resolver.resolve(requirement_set)\n",
      "  File \"/usr/local/lib/python3.8/site-packages/pip/_internal/legacy_resolve.py\", line 177, in resolve\n",
      "    discovered_reqs.extend(self._resolve_one(requirement_set, req))\n",
      "  File \"/usr/local/lib/python3.8/site-packages/pip/_internal/legacy_resolve.py\", line 333, in _resolve_one\n",
      "    abstract_dist = self._get_abstract_dist_for(req_to_install)\n",
      "  File \"/usr/local/lib/python3.8/site-packages/pip/_internal/legacy_resolve.py\", line 282, in _get_abstract_dist_for\n",
      "    abstract_dist = self.preparer.prepare_linked_requirement(req)\n",
      "  File \"/usr/local/lib/python3.8/site-packages/pip/_internal/operations/prepare.py\", line 480, in prepare_linked_requirement\n",
      "    local_path = unpack_url(\n",
      "  File \"/usr/local/lib/python3.8/site-packages/pip/_internal/operations/prepare.py\", line 282, in unpack_url\n",
      "    return unpack_http_url(\n",
      "  File \"/usr/local/lib/python3.8/site-packages/pip/_internal/operations/prepare.py\", line 158, in unpack_http_url\n",
      "    from_path, content_type = _download_http_url(\n",
      "  File \"/usr/local/lib/python3.8/site-packages/pip/_internal/operations/prepare.py\", line 303, in _download_http_url\n",
      "    for chunk in download.chunks:\n",
      "  File \"/usr/local/lib/python3.8/site-packages/pip/_internal/utils/ui.py\", line 160, in iter\n",
      "    for x in it:\n",
      "  File \"/usr/local/lib/python3.8/site-packages/pip/_internal/network/utils.py\", line 15, in response_chunks\n",
      "    for chunk in response.raw.stream(\n",
      "  File \"/usr/local/lib/python3.8/site-packages/pip/_vendor/urllib3/response.py\", line 564, in stream\n",
      "    data = self.read(amt=amt, decode_content=decode_content)\n",
      "  File \"/usr/local/lib/python3.8/site-packages/pip/_vendor/urllib3/response.py\", line 529, in read\n",
      "    raise IncompleteRead(self._fp_bytes_read, self.length_remaining)\n",
      "  File \"/usr/local/lib/python3.8/contextlib.py\", line 131, in __exit__\n",
      "    self.gen.throw(type, value, traceback)\n",
      "  File \"/usr/local/lib/python3.8/site-packages/pip/_vendor/urllib3/response.py\", line 430, in _error_catcher\n",
      "    raise ReadTimeoutError(self._pool, None, \"Read timed out.\")\n",
      "pip._vendor.urllib3.exceptions.ReadTimeoutError: HTTPSConnectionPool(host='files.pythonhosted.org', port=443): Read timed out.\u001b[0m\n",
      "\u001b[33mWARNING: You are using pip version 20.0.2; however, version 20.3.3 is available.\n",
      "You should consider upgrading via the '/usr/local/bin/python -m pip install --upgrade pip' command.\u001b[0m\n"
     ]
    }
   ],
   "source": [
    "!export http_proxy=http://nas.vvmm.ink:7890,https_proxy=http://nas.vvmm.ink:7890,all_proxy=socks5://nas.vvmm.ink:7891;\n",
    "!pip install ta-lib mplfinance -i https://pypi.mirrors.ustc.edu.cn/simple\n",
    "!pip install tqdm -i https://pypi.mirrors.ustc.edu.cn/simple\n",
    "!pip install numba -i https://pypi.mirrors.ustc.edu.cn/simple\n",
    "!pip install git+git://github.com/sohunjug/czsc.git"
   ]
  },
  {
   "cell_type": "code",
   "execution_count": 1,
   "metadata": {},
   "outputs": [
    {
     "name": "stdout",
     "output_type": "stream",
     "text": [
      "0.5.9\n",
      "login success!\n",
      "login respond error_code:0\n",
      "login respond  error_msg:success\n"
     ]
    }
   ],
   "source": [
    "import sys\n",
    "sys.path.insert(0, \".\")\n",
    "sys.path.insert(0, \"..\")\n",
    "\n",
    "import czsc\n",
    "print(czsc.__version__)\n",
    "from czsc.data.bs import *\n",
    "from datetime import datetime\n",
    "from typing import List\n",
    "import traceback\n",
    "import pandas as pd\n",
    "import numpy as np\n",
    "from tqdm.notebook import tqdm\n",
    "from czsc.analyze import KlineAnalyze\n",
    "import tushare as ts\n",
    "# 如果是第一次使用需要设置 token\n",
    "ts.set_token(\"565ee6d69fb85cb0bc7fdfc8dea4b8ce1f18366f30e8d23a253bb9cf\")"
   ]
  },
  {
   "cell_type": "code",
   "execution_count": null,
   "metadata": {},
   "outputs": [],
   "source": [
    "# 导入 Tushare 数据（推荐使用）\n",
    "from czsc.data.ts import *\n"
   ]
  },
  {
   "cell_type": "code",
   "execution_count": 2,
   "metadata": {
    "pycharm": {
     "name": "#%%\n"
    }
   },
   "outputs": [],
   "source": [
    "# 导入聚宽数据\n",
    "from czsc.data.jq import *\n",
    "\n",
    "# 如果是第一次使用需要设置 token\n",
    "set_token(\"18688989717\", \"hwqdir5.\")"
   ]
  },
  {
   "cell_type": "markdown",
   "metadata": {
    "pycharm": {
     "name": "#%% md\n"
    }
   },
   "source": [
    "### 缠论日线笔中枢三买选股\n",
    "---\n",
    "\n",
    "条件描述： 最近五笔走势，前三笔构成中枢，第四笔离开中枢，第五笔向下不回中枢\n",
    "\n"
   ]
  },
  {
   "cell_type": "code",
   "execution_count": 3,
   "metadata": {},
   "outputs": [],
   "source": [
    "def selector1(symbols: List, freq=\"d\"):\n",
    "    \"\"\"输入股票列表，输入符合买点定义的股票\"\"\"\n",
    "    res = []\n",
    "    for symbol in tqdm(symbols, desc=\"缠论日线笔中枢三买选股\"):\n",
    "        try:\n",
    "            kline = get_kline(symbol=symbol, end_date=datetime.now(), freq=freq, count=500)\n",
    "            ka = KlineAnalyze(kline, ma_params=(5, 34, 120, 233), bi_mode=\"new\")\n",
    "            points = ka.bi_list[-6:]\n",
    "            \n",
    "            if len(points) == 6 and points[-1]['fx_mark'] == \"d\":\n",
    "                zs_g = min([x['bi'] for x in points[:4] if x['fx_mark'] == 'g'])\n",
    "                zs_d = max([x['bi'] for x in points[:4] if x['fx_mark'] == 'd'])\n",
    "                \n",
    "                if points[-1]['bi'] > zs_g > zs_d:\n",
    "                    res.append(symbol)\n",
    "                    \n",
    "        except:\n",
    "            print(\"{} 分析失败\".format(symbol))\n",
    "            traceback.print_exc()\n",
    "    return res"
   ]
  },
  {
   "cell_type": "markdown",
   "metadata": {},
   "source": [
    "### 日线笔中枢选股\n",
    "---\n",
    "\n",
    "中枢如果能当下确认，基本逻辑如下：\n",
    "1. ma 233<close<ma 60 ---得 codes_list1\n",
    "2. codes_list1中选择 符合日线笔中枢形态的，得codes_list2\n",
    "    * 2.1 笔中枢形态：方向下: 日线中枢完成，第四笔底分型\n",
    "3. codes_list2 中中枢第一笔到第四笔得日期跨度 date1\n",
    "4. date1时间跨度中，codes_list2 ma233 cross的个数，并标注 codes_list3"
   ]
  },
  {
   "cell_type": "code",
   "execution_count": 4,
   "metadata": {},
   "outputs": [
    {
     "name": "stdout",
     "output_type": "stream",
     "text": [
      "2\n"
     ]
    }
   ],
   "source": [
    "def cross_number(x1, x2):\n",
    "    \"\"\"输入两个序列，计算 x1 下穿 x2 的次数\"\"\"\n",
    "    x = np.array(x1) < np.array(x2)\n",
    "    num = 0\n",
    "    for i in range(len(x)-1):\n",
    "        b1, b2 = x[i], x[i+1]\n",
    "        if b2 and b1 != b2:\n",
    "            num += 1\n",
    "    return num\n",
    "\n",
    "x1 = [1, 1, 3, 4, 5, 12, 9, 8]\n",
    "x2 = [2, 2, 1, 5, 8, 9, 10, 3]\n",
    "print(cross_number(x1, x2))"
   ]
  },
  {
   "cell_type": "code",
   "execution_count": 5,
   "metadata": {},
   "outputs": [],
   "source": [
    "def selector(symbols: List, freq=\"d\"):\n",
    "    \"\"\"输入股票列表，输入符合买点定义的股票\"\"\"\n",
    "    res = []\n",
    "    for symbol in tqdm(symbols, desc=\"缠论选股\"):\n",
    "        try:\n",
    "            kline = get_kline(symbol=symbol, end_date=datetime.now(), freq=freq, count=500)\n",
    "            ka = KlineAnalyze(kline, ma_params=(5, 34, 60, 250), bi_mode=\"new\")\n",
    "\n",
    "            if ka.ma[-1]['ma60'] >= ka.latest_price >= ka.ma[-1]['ma250']:\n",
    "                # print(\"{} 满足条件1：ma60 > close > ma233\".format(symbol))\n",
    "                points = ka.bi_list[-7:]\n",
    "                \n",
    "                if len(points) == 7 and points[-1]['fx_mark'] == 'd':\n",
    "                    zs_g = min([x['bi'] for x in points[2:6] if x['fx_mark'] == 'g'])\n",
    "                    zs_d = max([x['bi'] for x in points[2:6] if x['fx_mark'] == 'd'])\n",
    "                    \n",
    "                    if zs_g > zs_d:\n",
    "                        # print(\"{} 满足条件2：向下中枢完成\".format(symbol))\n",
    "                        date_span = [points[-5]['dt'], points[-1]['dt']]\n",
    "                        low = [x['low'] for x in ka.kline_raw if date_span[1] >= x['dt'] >= date_span[0]]\n",
    "                        ma_ = [x['ma250'] for x in ka.ma if date_span[1] >= x['dt'] >= date_span[0]]\n",
    "                        num = cross_number(low, ma_)\n",
    "                        res.append({\"symbol\": symbol, \"cross_num\": num})\n",
    "        except:\n",
    "            print(\"{} 分析失败\".format(symbol))\n",
    "            traceback.print_exc()\n",
    "    return res"
   ]
  },
  {
   "cell_type": "markdown",
   "metadata": {},
   "source": [
    "## 执行选股\n",
    "---"
   ]
  },
  {
   "cell_type": "code",
   "execution_count": 5,
   "metadata": {},
   "outputs": [
    {
     "data": {
      "application/vnd.jupyter.widget-view+json": {
       "model_id": "9bccee07b8b340ebae6609737137a750",
       "version_major": 2,
       "version_minor": 0
      },
      "text/plain": [
       "HBox(children=(HTML(value='缠论日线笔中枢三买选股'), FloatProgress(value=0.0, max=300.0), HTML(value='')))"
      ]
     },
     "metadata": {},
     "output_type": "display_data"
    },
    {
     "name": "stderr",
     "output_type": "stream",
     "text": [
      "../czsc/data/bs.py:142: SettingWithCopyWarning: \n",
      "A value is trying to be set on a copy of a slice from a DataFrame.\n",
      "Try using .loc[row_indexer,col_indexer] = value instead\n",
      "\n",
      "See the caveats in the documentation: http://pandas.pydata.org/pandas-docs/stable/user_guide/indexing.html#returning-a-view-versus-a-copy\n",
      "  k[col] = k[col].apply(round, args=(2,))\n"
     ]
    },
    {
     "name": "stdout",
     "output_type": "stream",
     "text": [
      "\n",
      "选股结果： ['sh.600111', 'sh.600406', 'sh.600009', 'sh.601117', 'sz.000651', 'sh.600362', 'sz.002008', 'sh.601111', 'sh.601919', 'sh.600809', 'sh.600893', 'sz.000768', 'sh.600309', 'sz.002415', 'sh.601021', 'sh.600690', 'sh.601398', 'sh.601318', 'sh.600989', 'sh.603833', 'sz.002600', 'sh.600703', 'sh.601600', 'sh.601899', 'sz.000786', 'sh.600176', 'sh.600025', 'sh.603993', 'sh.600660', 'sh.601601', 'sz.002601', 'sz.000333', 'sz.002460']\n"
     ]
    }
   ],
   "source": [
    "# 使用 tushare 数据在创业板综指上选股\n",
    "symbols = get_index_stocks(\"hs300\")\n",
    "#print(symbols)\n",
    "selected = selector1(symbols)\n",
    "\n",
    "print(\"选股结果：\", selected)\n",
    "# df = pd.DataFrame(selected)\n",
    "# df.to_excel(\"选股结果.xlsx\", index=False)"
   ]
  },
  {
   "cell_type": "code",
   "execution_count": 7,
   "metadata": {},
   "outputs": [
    {
     "data": {
      "text/html": [
       "<div>\n",
       "<style scoped>\n",
       "    .dataframe tbody tr th:only-of-type {\n",
       "        vertical-align: middle;\n",
       "    }\n",
       "\n",
       "    .dataframe tbody tr th {\n",
       "        vertical-align: top;\n",
       "    }\n",
       "\n",
       "    .dataframe thead th {\n",
       "        text-align: right;\n",
       "    }\n",
       "</style>\n",
       "<table border=\"1\" class=\"dataframe\">\n",
       "  <thead>\n",
       "    <tr style=\"text-align: right;\">\n",
       "      <th></th>\n",
       "      <th>0</th>\n",
       "    </tr>\n",
       "  </thead>\n",
       "  <tbody>\n",
       "    <tr>\n",
       "      <th>0</th>\n",
       "      <td>sh.600111</td>\n",
       "    </tr>\n",
       "    <tr>\n",
       "      <th>1</th>\n",
       "      <td>sh.600406</td>\n",
       "    </tr>\n",
       "    <tr>\n",
       "      <th>2</th>\n",
       "      <td>sh.600009</td>\n",
       "    </tr>\n",
       "    <tr>\n",
       "      <th>3</th>\n",
       "      <td>sh.601117</td>\n",
       "    </tr>\n",
       "    <tr>\n",
       "      <th>4</th>\n",
       "      <td>sz.000651</td>\n",
       "    </tr>\n",
       "    <tr>\n",
       "      <th>5</th>\n",
       "      <td>sh.600362</td>\n",
       "    </tr>\n",
       "    <tr>\n",
       "      <th>6</th>\n",
       "      <td>sz.002008</td>\n",
       "    </tr>\n",
       "    <tr>\n",
       "      <th>7</th>\n",
       "      <td>sh.601111</td>\n",
       "    </tr>\n",
       "    <tr>\n",
       "      <th>8</th>\n",
       "      <td>sh.601919</td>\n",
       "    </tr>\n",
       "    <tr>\n",
       "      <th>9</th>\n",
       "      <td>sh.600809</td>\n",
       "    </tr>\n",
       "    <tr>\n",
       "      <th>10</th>\n",
       "      <td>sh.600893</td>\n",
       "    </tr>\n",
       "    <tr>\n",
       "      <th>11</th>\n",
       "      <td>sz.000768</td>\n",
       "    </tr>\n",
       "    <tr>\n",
       "      <th>12</th>\n",
       "      <td>sh.600309</td>\n",
       "    </tr>\n",
       "    <tr>\n",
       "      <th>13</th>\n",
       "      <td>sz.002415</td>\n",
       "    </tr>\n",
       "    <tr>\n",
       "      <th>14</th>\n",
       "      <td>sh.601021</td>\n",
       "    </tr>\n",
       "    <tr>\n",
       "      <th>15</th>\n",
       "      <td>sh.600690</td>\n",
       "    </tr>\n",
       "    <tr>\n",
       "      <th>16</th>\n",
       "      <td>sh.601398</td>\n",
       "    </tr>\n",
       "    <tr>\n",
       "      <th>17</th>\n",
       "      <td>sh.601318</td>\n",
       "    </tr>\n",
       "    <tr>\n",
       "      <th>18</th>\n",
       "      <td>sh.600989</td>\n",
       "    </tr>\n",
       "    <tr>\n",
       "      <th>19</th>\n",
       "      <td>sh.603833</td>\n",
       "    </tr>\n",
       "    <tr>\n",
       "      <th>20</th>\n",
       "      <td>sz.002600</td>\n",
       "    </tr>\n",
       "    <tr>\n",
       "      <th>21</th>\n",
       "      <td>sh.600703</td>\n",
       "    </tr>\n",
       "    <tr>\n",
       "      <th>22</th>\n",
       "      <td>sh.601600</td>\n",
       "    </tr>\n",
       "    <tr>\n",
       "      <th>23</th>\n",
       "      <td>sh.601899</td>\n",
       "    </tr>\n",
       "    <tr>\n",
       "      <th>24</th>\n",
       "      <td>sz.000786</td>\n",
       "    </tr>\n",
       "    <tr>\n",
       "      <th>25</th>\n",
       "      <td>sh.600176</td>\n",
       "    </tr>\n",
       "    <tr>\n",
       "      <th>26</th>\n",
       "      <td>sh.600025</td>\n",
       "    </tr>\n",
       "    <tr>\n",
       "      <th>27</th>\n",
       "      <td>sh.603993</td>\n",
       "    </tr>\n",
       "    <tr>\n",
       "      <th>28</th>\n",
       "      <td>sh.600660</td>\n",
       "    </tr>\n",
       "    <tr>\n",
       "      <th>29</th>\n",
       "      <td>sh.601601</td>\n",
       "    </tr>\n",
       "    <tr>\n",
       "      <th>30</th>\n",
       "      <td>sz.002601</td>\n",
       "    </tr>\n",
       "    <tr>\n",
       "      <th>31</th>\n",
       "      <td>sz.000333</td>\n",
       "    </tr>\n",
       "    <tr>\n",
       "      <th>32</th>\n",
       "      <td>sz.002460</td>\n",
       "    </tr>\n",
       "  </tbody>\n",
       "</table>\n",
       "</div>"
      ],
      "text/plain": [
       "            0\n",
       "0   sh.600111\n",
       "1   sh.600406\n",
       "2   sh.600009\n",
       "3   sh.601117\n",
       "4   sz.000651\n",
       "5   sh.600362\n",
       "6   sz.002008\n",
       "7   sh.601111\n",
       "8   sh.601919\n",
       "9   sh.600809\n",
       "10  sh.600893\n",
       "11  sz.000768\n",
       "12  sh.600309\n",
       "13  sz.002415\n",
       "14  sh.601021\n",
       "15  sh.600690\n",
       "16  sh.601398\n",
       "17  sh.601318\n",
       "18  sh.600989\n",
       "19  sh.603833\n",
       "20  sz.002600\n",
       "21  sh.600703\n",
       "22  sh.601600\n",
       "23  sh.601899\n",
       "24  sz.000786\n",
       "25  sh.600176\n",
       "26  sh.600025\n",
       "27  sh.603993\n",
       "28  sh.600660\n",
       "29  sh.601601\n",
       "30  sz.002601\n",
       "31  sz.000333\n",
       "32  sz.002460"
      ]
     },
     "execution_count": 7,
     "metadata": {},
     "output_type": "execute_result"
    }
   ],
   "source": [
    "pd.DataFrame(selected)"
   ]
  },
  {
   "cell_type": "code",
   "execution_count": null,
   "metadata": {},
   "outputs": [],
   "source": [
    "# 使用聚宽数据在创业板综指上选股\n",
    "#symbols = get_index_stocks(\"399006.XSHE\")\n",
    "symbols = get_index_stocks(\"000300.XSHG\")\n",
    "#print(symbols)\n",
    "selected = selector(symbols)\n",
    "\n",
    "print(\"选股结果：\", selected)\n",
    "# df = pd.DataFrame(selected)\n",
    "# df.to_excel(\"选股结果.xlsx\", index=False)"
   ]
  },
  {
   "cell_type": "code",
   "execution_count": 6,
   "metadata": {},
   "outputs": [
    {
     "data": {
      "application/vnd.jupyter.widget-view+json": {
       "model_id": "e1201afa5ba04b648288fe0c980712c1",
       "version_major": 2,
       "version_minor": 0
      },
      "text/plain": [
       "HBox(children=(HTML(value='缠论日线笔中枢三买选股'), FloatProgress(value=0.0, max=300.0), HTML(value='')))"
      ]
     },
     "metadata": {},
     "output_type": "display_data"
    },
    {
     "name": "stdout",
     "output_type": "stream",
     "text": [
      "\n",
      "选股结果： ['000157.XSHE', '000333.XSHE', '000651.XSHE', '000768.XSHE', '000786.XSHE', '002008.XSHE', '002415.XSHE', '002460.XSHE', '002601.XSHE', '600009.XSHG', '600019.XSHG', '600025.XSHG', '600111.XSHG', '600176.XSHG', '600362.XSHG', '600406.XSHG', '600660.XSHG', '600690.XSHG', '600703.XSHG', '600809.XSHG', '600893.XSHG', '600989.XSHG', '601021.XSHG', '601111.XSHG', '601117.XSHG', '601318.XSHG', '601398.XSHG', '601600.XSHG', '601601.XSHG', '603833.XSHG', '688036.XSHG']\n"
     ]
    }
   ],
   "source": [
    "# 使用 tushare 数据在创业板综指上选股\n",
    "symbols = get_index_stocks(\"000300.XSHG\")\n",
    "#print(symbols)\n",
    "selected = selector1(symbols, \"D\")\n",
    "\n",
    "print(\"选股结果：\", selected)\n",
    "# df = pd.DataFrame(selected)\n",
    "# df.to_excel(\"选股结果.xlsx\", index=False)"
   ]
  },
  {
   "cell_type": "code",
   "execution_count": 9,
   "metadata": {},
   "outputs": [
    {
     "data": {
      "application/vnd.jupyter.widget-view+json": {
       "model_id": "11ab7d071703498aaaa4c758f254de9a",
       "version_major": 2,
       "version_minor": 0
      },
      "text/plain": [
       "HBox(children=(HTML(value='缠论日线笔中枢三买选股'), FloatProgress(value=0.0, max=300.0), HTML(value='')))"
      ]
     },
     "metadata": {},
     "output_type": "display_data"
    },
    {
     "name": "stdout",
     "output_type": "stream",
     "text": [
      "\n",
      "选股结果： ['000625.XSHE', '000776.XSHE', '002008.XSHE', '002032.XSHE', '002129.XSHE', '002230.XSHE', '002410.XSHE', '300003.XSHE', '300059.XSHE', '300408.XSHE', '300413.XSHE', '300676.XSHE', '600018.XSHG', '600019.XSHG', '600176.XSHG', '600196.XSHG', '600299.XSHG', '600369.XSHG', '600438.XSHG', '600489.XSHG', '600887.XSHG', '600893.XSHG', '601088.XSHG', '601555.XSHG', '601618.XSHG', '601985.XSHG', '603087.XSHG', '603288.XSHG']\n"
     ]
    }
   ],
   "source": [
    "# 使用 tushare 数据在创业板综指上选股\n",
    "symbols = get_index_stocks(\"000300.XSHG\")\n",
    "#print(symbols)\n",
    "selected = selector1(symbols, \"15min\")\n",
    "\n",
    "print(\"选股结果：\", selected)\n",
    "# df = pd.DataFrame(selected)\n",
    "# df.to_excel(\"选股结果.xlsx\", index=False)"
   ]
  },
  {
   "cell_type": "code",
   "execution_count": null,
   "metadata": {},
   "outputs": [
    {
     "data": {
      "application/vnd.jupyter.widget-view+json": {
       "model_id": "e0e4427d74334f3280f94b01040e9a73",
       "version_major": 2,
       "version_minor": 0
      },
      "text/plain": [
       "HBox(children=(HTML(value='缠论日线笔中枢三买选股'), FloatProgress(value=0.0, max=300.0), HTML(value='')))"
      ]
     },
     "metadata": {},
     "output_type": "display_data"
    }
   ],
   "source": [
    "# 使用 tushare 数据在创业板综指上选股\n",
    "symbols = get_index_stocks(\"000300.XSHG\")\n",
    "#print(symbols)\n",
    "selected = selector1(symbols, \"30min\")\n",
    "\n",
    "print(\"选股结果：\", selected)\n",
    "# df = pd.DataFrame(selected)\n",
    "# df.to_excel(\"选股结果.xlsx\", index=False)"
   ]
  },
  {
   "cell_type": "code",
   "execution_count": 11,
   "metadata": {},
   "outputs": [
    {
     "name": "stdout",
     "output_type": "stream",
     "text": [
      "\n",
      "选股结果： ['002508.XSHE', '002607.XSHE', '600519.XSHG', '600600.XSHG', '601577.XSHG', '603392.XSHG', '603899.XSHG']\n"
     ]
    }
   ],
   "source": [
    "# 使用 tushare 数据在创业板综指上选股\n",
    "symbols = get_index_stocks(\"000300.XSHG\")\n",
    "#print(symbols)\n",
    "selected = selector1(symbols, \"60min\")\n",
    "\n",
    "print(\"选股结果：\", selected)\n",
    "# df = pd.DataFrame(selected)\n",
    "# df.to_excel(\"选股结果.xlsx\", index=False)"
   ]
  },
  {
   "cell_type": "code",
   "execution_count": 12,
   "metadata": {},
   "outputs": [
    {
     "data": {
      "application/vnd.jupyter.widget-view+json": {
       "model_id": "0909cf2428bb4c4991e650ccb2d45376",
       "version_major": 2,
       "version_minor": 0
      },
      "text/plain": [
       "HBox(children=(HTML(value='缠论日线笔中枢三买选股'), FloatProgress(value=0.0, max=300.0), HTML(value='')))"
      ]
     },
     "metadata": {},
     "output_type": "display_data"
    },
    {
     "name": "stdout",
     "output_type": "stream",
     "text": [
      "\n",
      "选股结果： ['000100.XSHE', '000725.XSHE', '002230.XSHE', '002271.XSHE', '002304.XSHE', '002352.XSHE', '002555.XSHE', '002600.XSHE', '002812.XSHE', '002821.XSHE', '300433.XSHE', '600031.XSHG', '600332.XSHG', '603087.XSHG', '603156.XSHG', '603259.XSHG', '603833.XSHG']\n"
     ]
    }
   ],
   "source": [
    "# 使用 tushare 数据在创业板综指上选股\n",
    "symbols = get_index_stocks(\"000300.XSHG\")\n",
    "#print(symbols)\n",
    "selected = selector1(symbols, \"5min\")\n",
    "\n",
    "print(\"选股结果：\", selected)\n",
    "# df = pd.DataFrame(selected)\n",
    "# df.to_excel(\"选股结果.xlsx\", index=False)"
   ]
  },
  {
   "cell_type": "code",
   "execution_count": null,
   "metadata": {},
   "outputs": [],
   "source": []
  }
 ],
 "metadata": {
  "kernelspec": {
   "display_name": "Python 3",
   "language": "python",
   "name": "python3"
  },
  "language_info": {
   "codemirror_mode": {
    "name": "ipython",
    "version": 3
   },
   "file_extension": ".py",
   "mimetype": "text/x-python",
   "name": "python",
   "nbconvert_exporter": "python",
   "pygments_lexer": "ipython3",
   "version": "3.8.2"
  }
 },
 "nbformat": 4,
 "nbformat_minor": 4
}
