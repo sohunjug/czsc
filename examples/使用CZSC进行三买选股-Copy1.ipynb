{
 "cells": [
  {
   "cell_type": "markdown",
   "metadata": {
    "pycharm": {
     "name": "#%% md\n"
    }
   },
   "source": [
    "## 使用 `czsc` 进行选股\n",
    "---\n"
   ]
  },
  {
   "cell_type": "code",
   "execution_count": 1,
   "metadata": {},
   "outputs": [
    {
     "name": "stdout",
     "output_type": "stream",
     "text": [
      "0.5.9\n"
     ]
    }
   ],
   "source": [
    "import sys\n",
    "sys.path.insert(0, \".\")\n",
    "sys.path.insert(0, \"..\")\n",
    "\n",
    "import czsc\n",
    "print(czsc.__version__)\n",
    "\n",
    "from datetime import datetime\n",
    "from typing import List\n",
    "import traceback\n",
    "from tqdm import tqdm\n",
    "import pandas as pd\n",
    "import numpy as np\n",
    "from tqdm import tqdm_notebook as tqdm\n",
    "from czsc.analyze import KlineAnalyze\n",
    "# 导入聚宽数据\n",
    "\n",
    "pd.set_option('display.max_rows', None)\n",
    "\n"
   ]
  },
  {
   "cell_type": "code",
   "execution_count": null,
   "metadata": {},
   "outputs": [],
   "source": [
    "import tushare as ts\n",
    "# 如果是第一次使用需要设置 token\n",
    "ts.set_token(\"565ee6d69fb85cb0bc7fdfc8dea4b8ce1f18366f30e8d23a253bb9cf\")\n",
    "from czsc.data.ts import *\n"
   ]
  },
  {
   "cell_type": "code",
   "execution_count": 2,
   "metadata": {},
   "outputs": [
    {
     "name": "stdout",
     "output_type": "stream",
     "text": [
      "login success!\n",
      "login respond error_code:0\n",
      "login respond  error_msg:success\n"
     ]
    }
   ],
   "source": [
    "from czsc.data.bs import *"
   ]
  },
  {
   "cell_type": "markdown",
   "metadata": {
    "pycharm": {
     "name": "#%% md\n"
    }
   },
   "source": [
    "### 笔中枢三买选股\n",
    "---\n",
    "\n",
    "条件描述： 最近五笔走势，前三笔构成中枢，第四笔离开中枢，第五笔向下不回中枢\n",
    "\n"
   ]
  },
  {
   "cell_type": "code",
   "execution_count": 3,
   "metadata": {},
   "outputs": [
    {
     "name": "stdout",
     "output_type": "stream",
     "text": [
      "36.68\n"
     ]
    },
    {
     "name": "stderr",
     "output_type": "stream",
     "text": [
      "/usr/local/lib/python3.8/site-packages/pandas/core/indexing.py:494: SettingWithCopyWarning: \n",
      "A value is trying to be set on a copy of a slice from a DataFrame.\n",
      "Try using .loc[row_indexer,col_indexer] = value instead\n",
      "\n",
      "See the caveats in the documentation: http://pandas.pydata.org/pandas-docs/stable/user_guide/indexing.html#returning-a-view-versus-a-copy\n",
      "  self.obj[item] = s\n"
     ]
    }
   ],
   "source": [
    "close = get_kline(\"000768.SZ\", end_date=\"2020-12-31\", freq=\"d\", count=1)\n",
    "print(close[\"close\"][0])"
   ]
  },
  {
   "cell_type": "code",
   "execution_count": 4,
   "metadata": {},
   "outputs": [],
   "source": [
    "def selector_bi01(kline, res):\n",
    "    \"\"\"笔中枢三买选股\"\"\"\n",
    "    \n",
    "    try:\n",
    "        ka = KlineAnalyze(kline, bi_mode=\"old\", max_count=1000)\n",
    "        points = ka.bi_list[-7:]\n",
    "\n",
    "        if len(points) == 7 and points[-1]['fx_mark'] == \"d\":\n",
    "            zs_g = min([x['bi'] for x in points[1:5] if x['fx_mark'] == 'g'])\n",
    "            zs_d = max([x['bi'] for x in points[1:5] if x['fx_mark'] == 'd'])\n",
    "            #close = get_kline(symbol, end_date=ka.fx_list[-1][\"dt\", freq=freq, count=1)\n",
    "            if ka.latest_price > zs_g > zs_d and points[0]['bi'] < zs_d and ka.fx_list[-1]['fx_mark'] == 'g' and ka.fx_list[-1][\"fx_low\"] > ka.latest_price:\n",
    "                res['symbol'] = ka.symbol\n",
    "                res['is_match'] = True\n",
    "                res['dt'] = ka.fx_list[-1]['dt']\n",
    "                res['price'] = ka.latest_price\n",
    "                res['fx'] = ka.fx_list[-1]\n",
    "                res['bi'] = ka.bi_list[-1]\n",
    "                res['fx_h'] = ka.fx_list[-1][\"fx_high\"]\n",
    "                res['fx_l'] = ka.fx_list[-1][\"fx_low\"]\n",
    "                res['笔中枢三买选股'] = True\n",
    "\n",
    "    except:\n",
    "        print(\"{} 分析失败\".format(symbol))\n",
    "        traceback.print_exc()\n",
    "    return res"
   ]
  },
  {
   "cell_type": "markdown",
   "metadata": {},
   "source": [
    "### 三笔回调构成三买\n",
    "---"
   ]
  },
  {
   "cell_type": "code",
   "execution_count": 5,
   "metadata": {},
   "outputs": [],
   "source": [
    "def selector_bi02(kline, res):\n",
    "    \"\"\"三笔回调构成三买\"\"\"\n",
    "\n",
    "    try:\n",
    "        ka = KlineAnalyze(kline, bi_mode=\"old\", max_count=1000)\n",
    "        if len(ka.bi_list) > 16 and ka.bi_list[-1]['fx_mark'] == 'd':\n",
    "            points = ka.bi_list[-16:]\n",
    "            fd1_points = [x['bi'] for x in points[0: 4]]\n",
    "            fd2_points = [x['bi'] for x in points[3: 7]]\n",
    "            fd3_points = [x['bi'] for x in points[6: 10]]\n",
    "            fd4_points = [x['bi'] for x in points[9: 13]]\n",
    "            fd5_points = [x['bi'] for x in points[12: 16]]\n",
    "            fd1 = {\"high\": max(fd1_points), \"low\": min(fd1_points)}\n",
    "            fd2 = {\"high\": max(fd2_points), \"low\": min(fd2_points)}\n",
    "            fd3 = {\"high\": max(fd3_points), \"low\": min(fd3_points)}\n",
    "            fd4 = {\"high\": max(fd4_points), \"low\": min(fd4_points)}\n",
    "            fd5 = {\"high\": max(fd5_points), \"low\": min(fd5_points)}\n",
    "\n",
    "            zs_g = min(fd1['high'], fd2['high'], fd3['high'])\n",
    "            zs_d = max(fd1['low'], fd2['low'], fd3['low'])\n",
    "            if zs_d < zs_g < fd5['low'] < fd4['high'] and fd4['high'] > max(fd1['high'], fd3['high']):\n",
    "                res['symbol'] = ka.symbol\n",
    "                res['is_match'] = True\n",
    "                res['dt'] = ka.fx_list[-1]['dt']\n",
    "                res['price'] = ka.latest_price\n",
    "                res['fx'] = ka.fx_list[-1]\n",
    "                res['bi'] = ka.bi_list[-1]\n",
    "                res['fx_h'] = ka.fx_list[-1][\"fx_high\"]\n",
    "                res['fx_l'] = ka.fx_list[-1][\"fx_low\"]\n",
    "                res['三笔回调构成三买'] = True\n",
    "    except:\n",
    "        print(ka.fx_list)\n",
    "        traceback.print_exc()\n",
    "    return res"
   ]
  },
  {
   "cell_type": "markdown",
   "metadata": {},
   "source": [
    "## 执行选股\n",
    "---"
   ]
  },
  {
   "cell_type": "code",
   "execution_count": 6,
   "metadata": {},
   "outputs": [
    {
     "name": "stderr",
     "output_type": "stream",
     "text": [
      "<ipython-input-6-fe7c2d02d8a8>:10: TqdmDeprecationWarning: This function will be removed in tqdm==5.0.0\n",
      "Please use `tqdm.notebook.tqdm` instead of `tqdm.tqdm_notebook`\n",
      "  for symbol in tqdm(symbols, desc=\"selector\"):\n"
     ]
    },
    {
     "data": {
      "application/vnd.jupyter.widget-view+json": {
       "model_id": "2af11027fc374fda846118aaf459bf76",
       "version_major": 2,
       "version_minor": 0
      },
      "text/plain": [
       "selector:   0%|          | 0/500 [00:00<?, ?it/s]"
      ]
     },
     "metadata": {},
     "output_type": "display_data"
    },
    {
     "name": "stdout",
     "output_type": "stream",
     "text": [
      "选股结果：\n"
     ]
    }
   ],
   "source": [
    "\n",
    "# 如果是第一次使用需要设置 token\n",
    "# set_token(\"手机号\", \"密码\")\n",
    "\n",
    "# 使用聚宽数据在创业板综指上选股\n",
    "# symbols = get_index_stocks(\"399006.XSHE\")\n",
    "symbols = get_index_stocks(\"zz500\")\n",
    "freq = \"d\"\n",
    "\n",
    "results = []\n",
    "for symbol in tqdm(symbols, desc=\"selector\"):\n",
    "    res = {\"is_match\": False, \"fx\": None, \"bi\": None, \"dt\": None, \"price\": None, \"fx_h\": None, \"fx_l\": None,\n",
    "           \"name\": \"selector_bi02\", \"symbol\": None, \"三笔回调构成三买\": False, \"笔中枢三买选股\": False, \"name\": None}\n",
    "    try:\n",
    "        kline = get_kline(symbol, end_date=datetime.now(), freq=freq, count=200)\n",
    "        for selector in [selector_bi01, selector_bi02]:\n",
    "            try:\n",
    "                res = selector(kline, res)\n",
    "            except:\n",
    "                continue\n",
    "        if res['is_match']:\n",
    "            res['name'] = get_stock_info(symbol).code_name[0]\n",
    "            results.append(res)\n",
    "    except:\n",
    "        traceback.print_exc()\n",
    "        print(\"fail on: {}\".format(symbol))\n",
    "\n",
    "print(\"选股结果：\")\n",
    "zz500df = pd.DataFrame(results)\n",
    "# df.to_excel(\"选股结果.xlsx\", index=False)"
   ]
  },
  {
   "cell_type": "code",
   "execution_count": null,
   "metadata": {},
   "outputs": [],
   "source": [
    "\n",
    "# 如果是第一次使用需要设置 token\n",
    "# set_token(\"手机号\", \"密码\")\n",
    "\n",
    "# 使用聚宽数据在创业板综指上选股\n",
    "# symbols = get_index_stocks(\"399006.XSHE\")\n",
    "symbols = get_index_stocks(\"all\")\n",
    "freq = \"d\"\n",
    "\n",
    "results = []\n",
    "for symbol in tqdm(symbols, desc=\"selector\"):\n",
    "    res = {\"is_match\": False, \"fx\": None, \"bi\": None, \"dt\": None, \"price\": None, \"fx_h\": None, \"fx_l\": None,\n",
    "           \"name\": \"selector_bi02\", \"symbol\": None, \"三笔回调构成三买\": False, \"笔中枢三买选股\": False, \"name\": None}\n",
    "    try:\n",
    "        kline = get_kline(symbol, end_date=datetime.now(), freq=freq, count=200)\n",
    "        for selector in [selector_bi01, selector_bi02]:\n",
    "            try:\n",
    "                res = selector(kline, res)\n",
    "            except:\n",
    "                continue\n",
    "        if res['is_match']:\n",
    "            res['name'] = get_stock_info(symbol).code_name[0]\n",
    "            results.append(res)\n",
    "    except:\n",
    "        traceback.print_exc()\n",
    "        print(\"fail on: {}\".format(symbol))\n",
    "\n",
    "print(\"选股结果：\")\n",
    "alldf = pd.DataFrame(results)\n",
    "# df.to_excel(\"选股结果.xlsx\", index=False)\n"
   ]
  },
  {
   "cell_type": "code",
   "execution_count": 11,
   "metadata": {},
   "outputs": [
    {
     "name": "stderr",
     "output_type": "stream",
     "text": [
      "<ipython-input-11-ea639650d9cd>:10: TqdmDeprecationWarning: This function will be removed in tqdm==5.0.0\n",
      "Please use `tqdm.notebook.tqdm` instead of `tqdm.tqdm_notebook`\n",
      "  for symbol in tqdm(symbols, desc=\"selector\"):\n"
     ]
    },
    {
     "data": {
      "application/vnd.jupyter.widget-view+json": {
       "model_id": "860db3611db44b2ea09026130d41db17",
       "version_major": 2,
       "version_minor": 0
      },
      "text/plain": [
       "selector:   0%|          | 0/300 [00:00<?, ?it/s]"
      ]
     },
     "metadata": {},
     "output_type": "display_data"
    },
    {
     "name": "stdout",
     "output_type": "stream",
     "text": [
      "选股结果：\n"
     ]
    }
   ],
   "source": [
    "\n",
    "# 如果是第一次使用需要设置 token\n",
    "# set_token(\"手机号\", \"密码\")\n",
    "\n",
    "# 使用聚宽数据在创业板综指上选股\n",
    "# symbols = get_index_stocks(\"399006.XSHE\")\n",
    "symbols = get_index_stocks(\"hs300\")\n",
    "freq = \"d\"\n",
    "\n",
    "results = []\n",
    "for symbol in tqdm(symbols, desc=\"selector\"):\n",
    "    res = {\"is_match\": False, \"fx\": None, \"bi\": None, \"dt\": None, \"price\": None, \"fx_h\": None, \"fx_l\": None,\n",
    "           \"name\": \"selector_bi02\", \"symbol\": None, \"三笔回调构成三买\": False, \"笔中枢三买选股\": False, \"name\": None}\n",
    "    try:\n",
    "        kline = get_kline(symbol, end_date=datetime.now(), freq=freq, count=200)\n",
    "        for selector in [selector_bi01, selector_bi02]:\n",
    "            try:\n",
    "                res = selector(kline, res)\n",
    "            except:\n",
    "                continue\n",
    "        if res['is_match']:\n",
    "            res['name'] = get_stock_info(symbol).code_name[0]\n",
    "            results.append(res)\n",
    "    except:\n",
    "        traceback.print_exc()\n",
    "        print(\"fail on: {}\".format(symbol))\n",
    "\n",
    "print(\"选股结果：\")\n",
    "hs300df = pd.DataFrame(results)\n",
    "# df.to_excel(\"选股结果.xlsx\", index=False)"
   ]
  },
  {
   "cell_type": "code",
   "execution_count": 12,
   "metadata": {},
   "outputs": [
    {
     "data": {
      "text/html": [
       "<div>\n",
       "<style scoped>\n",
       "    .dataframe tbody tr th:only-of-type {\n",
       "        vertical-align: middle;\n",
       "    }\n",
       "\n",
       "    .dataframe tbody tr th {\n",
       "        vertical-align: top;\n",
       "    }\n",
       "\n",
       "    .dataframe thead th {\n",
       "        text-align: right;\n",
       "    }\n",
       "</style>\n",
       "<table border=\"1\" class=\"dataframe\">\n",
       "  <thead>\n",
       "    <tr style=\"text-align: right;\">\n",
       "      <th></th>\n",
       "      <th>is_match</th>\n",
       "      <th>fx</th>\n",
       "      <th>bi</th>\n",
       "      <th>dt</th>\n",
       "      <th>price</th>\n",
       "      <th>fx_h</th>\n",
       "      <th>fx_l</th>\n",
       "      <th>name</th>\n",
       "      <th>symbol</th>\n",
       "      <th>三笔回调构成三买</th>\n",
       "      <th>笔中枢三买选股</th>\n",
       "    </tr>\n",
       "  </thead>\n",
       "  <tbody>\n",
       "    <tr>\n",
       "      <th>0</th>\n",
       "      <td>True</td>\n",
       "      <td>{'dt': 2021-01-06 00:00:00, 'fx_mark': 'd', 'f...</td>\n",
       "      <td>{'dt': 2021-01-06 00:00:00, 'fx_mark': 'd', 's...</td>\n",
       "      <td>2021-01-06</td>\n",
       "      <td>18.26</td>\n",
       "      <td>18.07</td>\n",
       "      <td>17.36</td>\n",
       "      <td>中国神华</td>\n",
       "      <td>sh.601088</td>\n",
       "      <td>True</td>\n",
       "      <td>False</td>\n",
       "    </tr>\n",
       "    <tr>\n",
       "      <th>1</th>\n",
       "      <td>True</td>\n",
       "      <td>{'dt': 2020-12-31 00:00:00, 'fx_mark': 'g', 'f...</td>\n",
       "      <td>{'dt': 2020-12-29 00:00:00, 'fx_mark': 'd', 's...</td>\n",
       "      <td>2020-12-31</td>\n",
       "      <td>22.69</td>\n",
       "      <td>22.45</td>\n",
       "      <td>21.26</td>\n",
       "      <td>长安汽车</td>\n",
       "      <td>sz.000625</td>\n",
       "      <td>True</td>\n",
       "      <td>False</td>\n",
       "    </tr>\n",
       "    <tr>\n",
       "      <th>2</th>\n",
       "      <td>True</td>\n",
       "      <td>{'dt': 2020-12-29 00:00:00, 'fx_mark': 'd', 'f...</td>\n",
       "      <td>{'dt': 2020-12-29 00:00:00, 'fx_mark': 'd', 's...</td>\n",
       "      <td>2020-12-29</td>\n",
       "      <td>42.75</td>\n",
       "      <td>38.78</td>\n",
       "      <td>36.63</td>\n",
       "      <td>科大讯飞</td>\n",
       "      <td>sz.002230</td>\n",
       "      <td>True</td>\n",
       "      <td>False</td>\n",
       "    </tr>\n",
       "    <tr>\n",
       "      <th>3</th>\n",
       "      <td>True</td>\n",
       "      <td>{'dt': 2020-12-29 00:00:00, 'fx_mark': 'g', 'f...</td>\n",
       "      <td>{'dt': 2020-12-25 00:00:00, 'fx_mark': 'd', 's...</td>\n",
       "      <td>2020-12-29</td>\n",
       "      <td>23.23</td>\n",
       "      <td>26.25</td>\n",
       "      <td>23.39</td>\n",
       "      <td>上汽集团</td>\n",
       "      <td>sh.600104</td>\n",
       "      <td>True</td>\n",
       "      <td>False</td>\n",
       "    </tr>\n",
       "    <tr>\n",
       "      <th>4</th>\n",
       "      <td>True</td>\n",
       "      <td>{'dt': 2020-12-30 00:00:00, 'fx_mark': 'd', 'f...</td>\n",
       "      <td>{'dt': 2020-12-30 00:00:00, 'fx_mark': 'd', 's...</td>\n",
       "      <td>2020-12-30</td>\n",
       "      <td>26.06</td>\n",
       "      <td>21.78</td>\n",
       "      <td>20.90</td>\n",
       "      <td>中信特钢</td>\n",
       "      <td>sz.000708</td>\n",
       "      <td>True</td>\n",
       "      <td>False</td>\n",
       "    </tr>\n",
       "    <tr>\n",
       "      <th>5</th>\n",
       "      <td>True</td>\n",
       "      <td>{'dt': 2020-12-31 00:00:00, 'fx_mark': 'd', 'f...</td>\n",
       "      <td>{'dt': 2020-12-31 00:00:00, 'fx_mark': 'd', 's...</td>\n",
       "      <td>2020-12-31</td>\n",
       "      <td>22.81</td>\n",
       "      <td>20.83</td>\n",
       "      <td>19.54</td>\n",
       "      <td>江西铜业</td>\n",
       "      <td>sh.600362</td>\n",
       "      <td>True</td>\n",
       "      <td>False</td>\n",
       "    </tr>\n",
       "    <tr>\n",
       "      <th>6</th>\n",
       "      <td>True</td>\n",
       "      <td>{'dt': 2020-12-29 00:00:00, 'fx_mark': 'd', 'f...</td>\n",
       "      <td>{'dt': 2020-12-29 00:00:00, 'fx_mark': 'd', 's...</td>\n",
       "      <td>2020-12-29</td>\n",
       "      <td>4.71</td>\n",
       "      <td>4.24</td>\n",
       "      <td>4.12</td>\n",
       "      <td>中航资本</td>\n",
       "      <td>sh.600705</td>\n",
       "      <td>True</td>\n",
       "      <td>False</td>\n",
       "    </tr>\n",
       "  </tbody>\n",
       "</table>\n",
       "</div>"
      ],
      "text/plain": [
       "   is_match                                                 fx  \\\n",
       "0      True  {'dt': 2021-01-06 00:00:00, 'fx_mark': 'd', 'f...   \n",
       "1      True  {'dt': 2020-12-31 00:00:00, 'fx_mark': 'g', 'f...   \n",
       "2      True  {'dt': 2020-12-29 00:00:00, 'fx_mark': 'd', 'f...   \n",
       "3      True  {'dt': 2020-12-29 00:00:00, 'fx_mark': 'g', 'f...   \n",
       "4      True  {'dt': 2020-12-30 00:00:00, 'fx_mark': 'd', 'f...   \n",
       "5      True  {'dt': 2020-12-31 00:00:00, 'fx_mark': 'd', 'f...   \n",
       "6      True  {'dt': 2020-12-29 00:00:00, 'fx_mark': 'd', 'f...   \n",
       "\n",
       "                                                  bi         dt  price   fx_h  \\\n",
       "0  {'dt': 2021-01-06 00:00:00, 'fx_mark': 'd', 's... 2021-01-06  18.26  18.07   \n",
       "1  {'dt': 2020-12-29 00:00:00, 'fx_mark': 'd', 's... 2020-12-31  22.69  22.45   \n",
       "2  {'dt': 2020-12-29 00:00:00, 'fx_mark': 'd', 's... 2020-12-29  42.75  38.78   \n",
       "3  {'dt': 2020-12-25 00:00:00, 'fx_mark': 'd', 's... 2020-12-29  23.23  26.25   \n",
       "4  {'dt': 2020-12-30 00:00:00, 'fx_mark': 'd', 's... 2020-12-30  26.06  21.78   \n",
       "5  {'dt': 2020-12-31 00:00:00, 'fx_mark': 'd', 's... 2020-12-31  22.81  20.83   \n",
       "6  {'dt': 2020-12-29 00:00:00, 'fx_mark': 'd', 's... 2020-12-29   4.71   4.24   \n",
       "\n",
       "    fx_l  name     symbol  三笔回调构成三买  笔中枢三买选股  \n",
       "0  17.36  中国神华  sh.601088      True    False  \n",
       "1  21.26  长安汽车  sz.000625      True    False  \n",
       "2  36.63  科大讯飞  sz.002230      True    False  \n",
       "3  23.39  上汽集团  sh.600104      True    False  \n",
       "4  20.90  中信特钢  sz.000708      True    False  \n",
       "5  19.54  江西铜业  sh.600362      True    False  \n",
       "6   4.12  中航资本  sh.600705      True    False  "
      ]
     },
     "execution_count": 12,
     "metadata": {},
     "output_type": "execute_result"
    }
   ],
   "source": [
    "pd.set_option('display.max_columns', None)\n",
    "hs300df"
   ]
  },
  {
   "cell_type": "code",
   "execution_count": 7,
   "metadata": {},
   "outputs": [
    {
     "data": {
      "text/html": [
       "<div>\n",
       "<style scoped>\n",
       "    .dataframe tbody tr th:only-of-type {\n",
       "        vertical-align: middle;\n",
       "    }\n",
       "\n",
       "    .dataframe tbody tr th {\n",
       "        vertical-align: top;\n",
       "    }\n",
       "\n",
       "    .dataframe thead th {\n",
       "        text-align: right;\n",
       "    }\n",
       "</style>\n",
       "<table border=\"1\" class=\"dataframe\">\n",
       "  <thead>\n",
       "    <tr style=\"text-align: right;\">\n",
       "      <th></th>\n",
       "      <th>is_match</th>\n",
       "      <th>fx</th>\n",
       "      <th>bi</th>\n",
       "      <th>dt</th>\n",
       "      <th>price</th>\n",
       "      <th>fx_h</th>\n",
       "      <th>fx_l</th>\n",
       "      <th>name</th>\n",
       "      <th>symbol</th>\n",
       "      <th>三笔回调构成三买</th>\n",
       "      <th>笔中枢三买选股</th>\n",
       "    </tr>\n",
       "  </thead>\n",
       "  <tbody>\n",
       "    <tr>\n",
       "      <th>0</th>\n",
       "      <td>True</td>\n",
       "      <td>{'dt': 2021-01-06 00:00:00, 'fx_mark': 'g', 'f...</td>\n",
       "      <td>{'dt': 2020-12-31 00:00:00, 'fx_mark': 'd', 's...</td>\n",
       "      <td>2021-01-06</td>\n",
       "      <td>2.92</td>\n",
       "      <td>3.37</td>\n",
       "      <td>2.93</td>\n",
       "      <td>鹏都农牧</td>\n",
       "      <td>sz.002505</td>\n",
       "      <td>False</td>\n",
       "      <td>True</td>\n",
       "    </tr>\n",
       "    <tr>\n",
       "      <th>1</th>\n",
       "      <td>True</td>\n",
       "      <td>{'dt': 2020-12-30 00:00:00, 'fx_mark': 'd', 'f...</td>\n",
       "      <td>{'dt': 2020-12-24 00:00:00, 'fx_mark': 'd', 's...</td>\n",
       "      <td>2020-12-30</td>\n",
       "      <td>7.27</td>\n",
       "      <td>6.65</td>\n",
       "      <td>6.30</td>\n",
       "      <td>晨鸣纸业</td>\n",
       "      <td>sz.000488</td>\n",
       "      <td>True</td>\n",
       "      <td>False</td>\n",
       "    </tr>\n",
       "    <tr>\n",
       "      <th>2</th>\n",
       "      <td>True</td>\n",
       "      <td>{'dt': 2020-12-28 00:00:00, 'fx_mark': 'd', 'f...</td>\n",
       "      <td>{'dt': 2020-12-28 00:00:00, 'fx_mark': 'd', 's...</td>\n",
       "      <td>2020-12-28</td>\n",
       "      <td>62.04</td>\n",
       "      <td>54.18</td>\n",
       "      <td>52.30</td>\n",
       "      <td>洽洽食品</td>\n",
       "      <td>sz.002557</td>\n",
       "      <td>True</td>\n",
       "      <td>False</td>\n",
       "    </tr>\n",
       "    <tr>\n",
       "      <th>3</th>\n",
       "      <td>True</td>\n",
       "      <td>{'dt': 2021-01-04 00:00:00, 'fx_mark': 'g', 'f...</td>\n",
       "      <td>{'dt': 2020-12-29 00:00:00, 'fx_mark': 'd', 's...</td>\n",
       "      <td>2021-01-04</td>\n",
       "      <td>7.94</td>\n",
       "      <td>8.88</td>\n",
       "      <td>8.20</td>\n",
       "      <td>燕京啤酒</td>\n",
       "      <td>sz.000729</td>\n",
       "      <td>True</td>\n",
       "      <td>False</td>\n",
       "    </tr>\n",
       "    <tr>\n",
       "      <th>4</th>\n",
       "      <td>True</td>\n",
       "      <td>{'dt': 2021-01-05 00:00:00, 'fx_mark': 'g', 'f...</td>\n",
       "      <td>{'dt': 2020-12-30 00:00:00, 'fx_mark': 'd', 's...</td>\n",
       "      <td>2021-01-05</td>\n",
       "      <td>15.95</td>\n",
       "      <td>18.60</td>\n",
       "      <td>15.98</td>\n",
       "      <td>小康股份</td>\n",
       "      <td>sh.601127</td>\n",
       "      <td>True</td>\n",
       "      <td>False</td>\n",
       "    </tr>\n",
       "    <tr>\n",
       "      <th>5</th>\n",
       "      <td>True</td>\n",
       "      <td>{'dt': 2021-01-06 00:00:00, 'fx_mark': 'd', 'f...</td>\n",
       "      <td>{'dt': 2020-12-28 00:00:00, 'fx_mark': 'd', 's...</td>\n",
       "      <td>2021-01-06</td>\n",
       "      <td>74.10</td>\n",
       "      <td>76.93</td>\n",
       "      <td>71.90</td>\n",
       "      <td>晶晨股份</td>\n",
       "      <td>sh.688099</td>\n",
       "      <td>True</td>\n",
       "      <td>False</td>\n",
       "    </tr>\n",
       "    <tr>\n",
       "      <th>6</th>\n",
       "      <td>True</td>\n",
       "      <td>{'dt': 2021-01-06 00:00:00, 'fx_mark': 'g', 'f...</td>\n",
       "      <td>{'dt': 2020-12-31 00:00:00, 'fx_mark': 'd', 's...</td>\n",
       "      <td>2021-01-06</td>\n",
       "      <td>9.36</td>\n",
       "      <td>10.00</td>\n",
       "      <td>9.40</td>\n",
       "      <td>中粮科技</td>\n",
       "      <td>sz.000930</td>\n",
       "      <td>False</td>\n",
       "      <td>True</td>\n",
       "    </tr>\n",
       "    <tr>\n",
       "      <th>7</th>\n",
       "      <td>True</td>\n",
       "      <td>{'dt': 2021-01-06 00:00:00, 'fx_mark': 'd', 'f...</td>\n",
       "      <td>{'dt': 2021-01-06 00:00:00, 'fx_mark': 'd', 's...</td>\n",
       "      <td>2021-01-06</td>\n",
       "      <td>4.81</td>\n",
       "      <td>4.81</td>\n",
       "      <td>4.57</td>\n",
       "      <td>华菱钢铁</td>\n",
       "      <td>sz.000932</td>\n",
       "      <td>True</td>\n",
       "      <td>False</td>\n",
       "    </tr>\n",
       "  </tbody>\n",
       "</table>\n",
       "</div>"
      ],
      "text/plain": [
       "   is_match                                                 fx  \\\n",
       "0      True  {'dt': 2021-01-06 00:00:00, 'fx_mark': 'g', 'f...   \n",
       "1      True  {'dt': 2020-12-30 00:00:00, 'fx_mark': 'd', 'f...   \n",
       "2      True  {'dt': 2020-12-28 00:00:00, 'fx_mark': 'd', 'f...   \n",
       "3      True  {'dt': 2021-01-04 00:00:00, 'fx_mark': 'g', 'f...   \n",
       "4      True  {'dt': 2021-01-05 00:00:00, 'fx_mark': 'g', 'f...   \n",
       "5      True  {'dt': 2021-01-06 00:00:00, 'fx_mark': 'd', 'f...   \n",
       "6      True  {'dt': 2021-01-06 00:00:00, 'fx_mark': 'g', 'f...   \n",
       "7      True  {'dt': 2021-01-06 00:00:00, 'fx_mark': 'd', 'f...   \n",
       "\n",
       "                                                  bi         dt  price   fx_h  \\\n",
       "0  {'dt': 2020-12-31 00:00:00, 'fx_mark': 'd', 's... 2021-01-06   2.92   3.37   \n",
       "1  {'dt': 2020-12-24 00:00:00, 'fx_mark': 'd', 's... 2020-12-30   7.27   6.65   \n",
       "2  {'dt': 2020-12-28 00:00:00, 'fx_mark': 'd', 's... 2020-12-28  62.04  54.18   \n",
       "3  {'dt': 2020-12-29 00:00:00, 'fx_mark': 'd', 's... 2021-01-04   7.94   8.88   \n",
       "4  {'dt': 2020-12-30 00:00:00, 'fx_mark': 'd', 's... 2021-01-05  15.95  18.60   \n",
       "5  {'dt': 2020-12-28 00:00:00, 'fx_mark': 'd', 's... 2021-01-06  74.10  76.93   \n",
       "6  {'dt': 2020-12-31 00:00:00, 'fx_mark': 'd', 's... 2021-01-06   9.36  10.00   \n",
       "7  {'dt': 2021-01-06 00:00:00, 'fx_mark': 'd', 's... 2021-01-06   4.81   4.81   \n",
       "\n",
       "    fx_l  name     symbol  三笔回调构成三买  笔中枢三买选股  \n",
       "0   2.93  鹏都农牧  sz.002505     False     True  \n",
       "1   6.30  晨鸣纸业  sz.000488      True    False  \n",
       "2  52.30  洽洽食品  sz.002557      True    False  \n",
       "3   8.20  燕京啤酒  sz.000729      True    False  \n",
       "4  15.98  小康股份  sh.601127      True    False  \n",
       "5  71.90  晶晨股份  sh.688099      True    False  \n",
       "6   9.40  中粮科技  sz.000930     False     True  \n",
       "7   4.57  华菱钢铁  sz.000932      True    False  "
      ]
     },
     "execution_count": 7,
     "metadata": {},
     "output_type": "execute_result"
    }
   ],
   "source": [
    "pd.set_option('display.max_rows', 1000)\n",
    "zz500df"
   ]
  },
  {
   "cell_type": "code",
   "execution_count": 13,
   "metadata": {},
   "outputs": [],
   "source": [
    "hs300df.sort_values('dt', inplace=True)"
   ]
  },
  {
   "cell_type": "code",
   "execution_count": 14,
   "metadata": {},
   "outputs": [
    {
     "data": {
      "text/html": [
       "<div>\n",
       "<style scoped>\n",
       "    .dataframe tbody tr th:only-of-type {\n",
       "        vertical-align: middle;\n",
       "    }\n",
       "\n",
       "    .dataframe tbody tr th {\n",
       "        vertical-align: top;\n",
       "    }\n",
       "\n",
       "    .dataframe thead th {\n",
       "        text-align: right;\n",
       "    }\n",
       "</style>\n",
       "<table border=\"1\" class=\"dataframe\">\n",
       "  <thead>\n",
       "    <tr style=\"text-align: right;\">\n",
       "      <th></th>\n",
       "      <th>dt</th>\n",
       "      <th>price</th>\n",
       "      <th>symbol</th>\n",
       "      <th>name</th>\n",
       "    </tr>\n",
       "  </thead>\n",
       "  <tbody>\n",
       "    <tr>\n",
       "      <th>2</th>\n",
       "      <td>2020-12-29</td>\n",
       "      <td>42.75</td>\n",
       "      <td>sz.002230</td>\n",
       "      <td>科大讯飞</td>\n",
       "    </tr>\n",
       "    <tr>\n",
       "      <th>3</th>\n",
       "      <td>2020-12-29</td>\n",
       "      <td>23.23</td>\n",
       "      <td>sh.600104</td>\n",
       "      <td>上汽集团</td>\n",
       "    </tr>\n",
       "    <tr>\n",
       "      <th>6</th>\n",
       "      <td>2020-12-29</td>\n",
       "      <td>4.71</td>\n",
       "      <td>sh.600705</td>\n",
       "      <td>中航资本</td>\n",
       "    </tr>\n",
       "    <tr>\n",
       "      <th>4</th>\n",
       "      <td>2020-12-30</td>\n",
       "      <td>26.06</td>\n",
       "      <td>sz.000708</td>\n",
       "      <td>中信特钢</td>\n",
       "    </tr>\n",
       "    <tr>\n",
       "      <th>1</th>\n",
       "      <td>2020-12-31</td>\n",
       "      <td>22.69</td>\n",
       "      <td>sz.000625</td>\n",
       "      <td>长安汽车</td>\n",
       "    </tr>\n",
       "    <tr>\n",
       "      <th>5</th>\n",
       "      <td>2020-12-31</td>\n",
       "      <td>22.81</td>\n",
       "      <td>sh.600362</td>\n",
       "      <td>江西铜业</td>\n",
       "    </tr>\n",
       "    <tr>\n",
       "      <th>0</th>\n",
       "      <td>2021-01-06</td>\n",
       "      <td>18.26</td>\n",
       "      <td>sh.601088</td>\n",
       "      <td>中国神华</td>\n",
       "    </tr>\n",
       "  </tbody>\n",
       "</table>\n",
       "</div>"
      ],
      "text/plain": [
       "          dt  price     symbol  name\n",
       "2 2020-12-29  42.75  sz.002230  科大讯飞\n",
       "3 2020-12-29  23.23  sh.600104  上汽集团\n",
       "6 2020-12-29   4.71  sh.600705  中航资本\n",
       "4 2020-12-30  26.06  sz.000708  中信特钢\n",
       "1 2020-12-31  22.69  sz.000625  长安汽车\n",
       "5 2020-12-31  22.81  sh.600362  江西铜业\n",
       "0 2021-01-06  18.26  sh.601088  中国神华"
      ]
     },
     "execution_count": 14,
     "metadata": {},
     "output_type": "execute_result"
    }
   ],
   "source": [
    "hs300df.loc[:, (\"dt\", \"price\", \"symbol\", \"name\")]"
   ]
  },
  {
   "cell_type": "code",
   "execution_count": 15,
   "metadata": {},
   "outputs": [
    {
     "data": {
      "text/html": [
       "<div>\n",
       "<style scoped>\n",
       "    .dataframe tbody tr th:only-of-type {\n",
       "        vertical-align: middle;\n",
       "    }\n",
       "\n",
       "    .dataframe tbody tr th {\n",
       "        vertical-align: top;\n",
       "    }\n",
       "\n",
       "    .dataframe thead th {\n",
       "        text-align: right;\n",
       "    }\n",
       "</style>\n",
       "<table border=\"1\" class=\"dataframe\">\n",
       "  <thead>\n",
       "    <tr style=\"text-align: right;\">\n",
       "      <th></th>\n",
       "      <th>is_match</th>\n",
       "      <th>fx</th>\n",
       "      <th>bi</th>\n",
       "      <th>dt</th>\n",
       "      <th>price</th>\n",
       "      <th>fx_h</th>\n",
       "      <th>fx_l</th>\n",
       "      <th>name</th>\n",
       "      <th>symbol</th>\n",
       "      <th>三笔回调构成三买</th>\n",
       "      <th>笔中枢三买选股</th>\n",
       "    </tr>\n",
       "  </thead>\n",
       "  <tbody>\n",
       "  </tbody>\n",
       "</table>\n",
       "</div>"
      ],
      "text/plain": [
       "Empty DataFrame\n",
       "Columns: [is_match, fx, bi, dt, price, fx_h, fx_l, name, symbol, 三笔回调构成三买, 笔中枢三买选股]\n",
       "Index: []"
      ]
     },
     "execution_count": 15,
     "metadata": {},
     "output_type": "execute_result"
    }
   ],
   "source": [
    "hs300df[(hs300df['三笔回调构成三买'] == False) & (hs300df['笔中枢三买选股'] == True)]"
   ]
  },
  {
   "cell_type": "code",
   "execution_count": 16,
   "metadata": {},
   "outputs": [
    {
     "data": {
      "text/html": [
       "<div>\n",
       "<style scoped>\n",
       "    .dataframe tbody tr th:only-of-type {\n",
       "        vertical-align: middle;\n",
       "    }\n",
       "\n",
       "    .dataframe tbody tr th {\n",
       "        vertical-align: top;\n",
       "    }\n",
       "\n",
       "    .dataframe thead th {\n",
       "        text-align: right;\n",
       "    }\n",
       "</style>\n",
       "<table border=\"1\" class=\"dataframe\">\n",
       "  <thead>\n",
       "    <tr style=\"text-align: right;\">\n",
       "      <th></th>\n",
       "      <th>is_match</th>\n",
       "      <th>fx</th>\n",
       "      <th>bi</th>\n",
       "      <th>dt</th>\n",
       "      <th>price</th>\n",
       "      <th>fx_h</th>\n",
       "      <th>fx_l</th>\n",
       "      <th>name</th>\n",
       "      <th>symbol</th>\n",
       "      <th>三笔回调构成三买</th>\n",
       "      <th>笔中枢三买选股</th>\n",
       "    </tr>\n",
       "  </thead>\n",
       "  <tbody>\n",
       "  </tbody>\n",
       "</table>\n",
       "</div>"
      ],
      "text/plain": [
       "Empty DataFrame\n",
       "Columns: [is_match, fx, bi, dt, price, fx_h, fx_l, name, symbol, 三笔回调构成三买, 笔中枢三买选股]\n",
       "Index: []"
      ]
     },
     "execution_count": 16,
     "metadata": {},
     "output_type": "execute_result"
    }
   ],
   "source": [
    "hs300df[(hs300df['三笔回调构成三买'] == True) & (hs300df['笔中枢三买选股'] == True)]"
   ]
  },
  {
   "cell_type": "code",
   "execution_count": 8,
   "metadata": {},
   "outputs": [],
   "source": [
    "zz500df.sort_values('dt', inplace=True)"
   ]
  },
  {
   "cell_type": "code",
   "execution_count": 9,
   "metadata": {},
   "outputs": [
    {
     "data": {
      "text/html": [
       "<div>\n",
       "<style scoped>\n",
       "    .dataframe tbody tr th:only-of-type {\n",
       "        vertical-align: middle;\n",
       "    }\n",
       "\n",
       "    .dataframe tbody tr th {\n",
       "        vertical-align: top;\n",
       "    }\n",
       "\n",
       "    .dataframe thead th {\n",
       "        text-align: right;\n",
       "    }\n",
       "</style>\n",
       "<table border=\"1\" class=\"dataframe\">\n",
       "  <thead>\n",
       "    <tr style=\"text-align: right;\">\n",
       "      <th></th>\n",
       "      <th>dt</th>\n",
       "      <th>price</th>\n",
       "      <th>symbol</th>\n",
       "      <th>name</th>\n",
       "    </tr>\n",
       "  </thead>\n",
       "  <tbody>\n",
       "    <tr>\n",
       "      <th>2</th>\n",
       "      <td>2020-12-28</td>\n",
       "      <td>62.04</td>\n",
       "      <td>sz.002557</td>\n",
       "      <td>洽洽食品</td>\n",
       "    </tr>\n",
       "    <tr>\n",
       "      <th>1</th>\n",
       "      <td>2020-12-30</td>\n",
       "      <td>7.27</td>\n",
       "      <td>sz.000488</td>\n",
       "      <td>晨鸣纸业</td>\n",
       "    </tr>\n",
       "    <tr>\n",
       "      <th>3</th>\n",
       "      <td>2021-01-04</td>\n",
       "      <td>7.94</td>\n",
       "      <td>sz.000729</td>\n",
       "      <td>燕京啤酒</td>\n",
       "    </tr>\n",
       "    <tr>\n",
       "      <th>4</th>\n",
       "      <td>2021-01-05</td>\n",
       "      <td>15.95</td>\n",
       "      <td>sh.601127</td>\n",
       "      <td>小康股份</td>\n",
       "    </tr>\n",
       "    <tr>\n",
       "      <th>0</th>\n",
       "      <td>2021-01-06</td>\n",
       "      <td>2.92</td>\n",
       "      <td>sz.002505</td>\n",
       "      <td>鹏都农牧</td>\n",
       "    </tr>\n",
       "    <tr>\n",
       "      <th>5</th>\n",
       "      <td>2021-01-06</td>\n",
       "      <td>74.10</td>\n",
       "      <td>sh.688099</td>\n",
       "      <td>晶晨股份</td>\n",
       "    </tr>\n",
       "    <tr>\n",
       "      <th>6</th>\n",
       "      <td>2021-01-06</td>\n",
       "      <td>9.36</td>\n",
       "      <td>sz.000930</td>\n",
       "      <td>中粮科技</td>\n",
       "    </tr>\n",
       "    <tr>\n",
       "      <th>7</th>\n",
       "      <td>2021-01-06</td>\n",
       "      <td>4.81</td>\n",
       "      <td>sz.000932</td>\n",
       "      <td>华菱钢铁</td>\n",
       "    </tr>\n",
       "  </tbody>\n",
       "</table>\n",
       "</div>"
      ],
      "text/plain": [
       "          dt  price     symbol  name\n",
       "2 2020-12-28  62.04  sz.002557  洽洽食品\n",
       "1 2020-12-30   7.27  sz.000488  晨鸣纸业\n",
       "3 2021-01-04   7.94  sz.000729  燕京啤酒\n",
       "4 2021-01-05  15.95  sh.601127  小康股份\n",
       "0 2021-01-06   2.92  sz.002505  鹏都农牧\n",
       "5 2021-01-06  74.10  sh.688099  晶晨股份\n",
       "6 2021-01-06   9.36  sz.000930  中粮科技\n",
       "7 2021-01-06   4.81  sz.000932  华菱钢铁"
      ]
     },
     "execution_count": 9,
     "metadata": {},
     "output_type": "execute_result"
    }
   ],
   "source": [
    "zz500df.loc[:, (\"dt\", \"price\", \"symbol\", \"name\")]"
   ]
  },
  {
   "cell_type": "code",
   "execution_count": 10,
   "metadata": {},
   "outputs": [
    {
     "data": {
      "text/html": [
       "<div>\n",
       "<style scoped>\n",
       "    .dataframe tbody tr th:only-of-type {\n",
       "        vertical-align: middle;\n",
       "    }\n",
       "\n",
       "    .dataframe tbody tr th {\n",
       "        vertical-align: top;\n",
       "    }\n",
       "\n",
       "    .dataframe thead th {\n",
       "        text-align: right;\n",
       "    }\n",
       "</style>\n",
       "<table border=\"1\" class=\"dataframe\">\n",
       "  <thead>\n",
       "    <tr style=\"text-align: right;\">\n",
       "      <th></th>\n",
       "      <th>is_match</th>\n",
       "      <th>fx</th>\n",
       "      <th>bi</th>\n",
       "      <th>dt</th>\n",
       "      <th>price</th>\n",
       "      <th>fx_h</th>\n",
       "      <th>fx_l</th>\n",
       "      <th>name</th>\n",
       "      <th>symbol</th>\n",
       "      <th>三笔回调构成三买</th>\n",
       "      <th>笔中枢三买选股</th>\n",
       "    </tr>\n",
       "  </thead>\n",
       "  <tbody>\n",
       "  </tbody>\n",
       "</table>\n",
       "</div>"
      ],
      "text/plain": [
       "Empty DataFrame\n",
       "Columns: [is_match, fx, bi, dt, price, fx_h, fx_l, name, symbol, 三笔回调构成三买, 笔中枢三买选股]\n",
       "Index: []"
      ]
     },
     "execution_count": 10,
     "metadata": {},
     "output_type": "execute_result"
    }
   ],
   "source": [
    "zz500df[(zz500df['三笔回调构成三买'] == True) & (zz500df['笔中枢三买选股'] == True)]"
   ]
  },
  {
   "cell_type": "code",
   "execution_count": null,
   "metadata": {},
   "outputs": [],
   "source": [
    "alldf.sort_values('symbol', inplace=True)"
   ]
  },
  {
   "cell_type": "code",
   "execution_count": null,
   "metadata": {},
   "outputs": [],
   "source": [
    "alldf[(alldf['三笔回调构成三买'] == True) & (alldf['笔中枢三买选股'] == True)]"
   ]
  },
  {
   "cell_type": "code",
   "execution_count": null,
   "metadata": {},
   "outputs": [],
   "source": []
  }
 ],
 "metadata": {
  "kernelspec": {
   "display_name": "Python 3",
   "language": "python",
   "name": "python3"
  },
  "language_info": {
   "codemirror_mode": {
    "name": "ipython",
    "version": 3
   },
   "file_extension": ".py",
   "mimetype": "text/x-python",
   "name": "python",
   "nbconvert_exporter": "python",
   "pygments_lexer": "ipython3",
   "version": "3.8.2"
  }
 },
 "nbformat": 4,
 "nbformat_minor": 4
}
